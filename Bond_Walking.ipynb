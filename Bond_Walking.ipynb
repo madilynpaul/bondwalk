{
 "cells": [
  {
   "cell_type": "code",
   "execution_count": 1,
   "id": "dff65556",
   "metadata": {},
   "outputs": [
    {
     "name": "stderr",
     "output_type": "stream",
     "text": [
      "Warning: importing 'simtk.openmm' is deprecated.  Import 'openmm' instead.\n",
      "Warning: Unable to load toolkit 'OpenEye Toolkit'. The Open Force Field Toolkit does not require the OpenEye Toolkits, and can use RDKit/AmberTools instead. However, if you have a valid license for the OpenEye Toolkits, consider installing them for faster performance and additional file format support: https://docs.eyesopen.com/toolkits/python/quickstart-python/linuxosx.html OpenEye offers free Toolkit licenses for academics: https://www.eyesopen.com/academic-licensing\n"
     ]
    }
   ],
   "source": [
    "import mbuild as mb\n",
    "from openff.toolkit.topology import Molecule\n",
    "import random\n",
    "import numpy\n",
    "import warnings\n",
    "warnings.filterwarnings(\"ignore\")"
   ]
  },
  {
   "cell_type": "code",
   "execution_count": 2,
   "id": "2577f5a9",
   "metadata": {},
   "outputs": [],
   "source": [
    "benzene = mb.load(\"c1ccsc1\",smiles=True)\n",
    "benzene.save(\"ben.sdf\",overwrite=True)"
   ]
  },
  {
   "cell_type": "code",
   "execution_count": 3,
   "id": "2b6bc902",
   "metadata": {
    "scrolled": false
   },
   "outputs": [
    {
     "data": {
      "image/svg+xml": [
       "<svg xmlns=\"http://www.w3.org/2000/svg\" xmlns:rdkit=\"http://www.rdkit.org/xml\" xmlns:xlink=\"http://www.w3.org/1999/xlink\" version=\"1.1\" baseProfile=\"full\" xml:space=\"preserve\" width=\"500px\" height=\"300px\" viewBox=\"0 0 500 300\">\n",
       "<!-- END OF HEADER -->\n",
       "<rect style=\"opacity:1.0;fill:#FFFFFF;stroke:none\" width=\"500.0\" height=\"300.0\" x=\"0.0\" y=\"0.0\"> </rect>\n",
       "<path class=\"bond-0 atom-1 atom-0\" d=\"M 216.1,115.8 L 310.0,126.2\" style=\"fill:none;fill-rule:evenodd;stroke:#000000;stroke-width:2.0px;stroke-linecap:butt;stroke-linejoin:miter;stroke-opacity:1\"/>\n",
       "<path class=\"bond-1 atom-2 atom-1\" d=\"M 177.3,201.9 L 216.1,115.8\" style=\"fill:none;fill-rule:evenodd;stroke:#000000;stroke-width:2.0px;stroke-linecap:butt;stroke-linejoin:miter;stroke-opacity:1\"/>\n",
       "<path class=\"bond-2 atom-3 atom-2\" d=\"M 234.9,254.3 L 206.1,228.1\" style=\"fill:none;fill-rule:evenodd;stroke:#CCCC00;stroke-width:2.0px;stroke-linecap:butt;stroke-linejoin:miter;stroke-opacity:1\"/>\n",
       "<path class=\"bond-2 atom-3 atom-2\" d=\"M 206.1,228.1 L 177.3,201.9\" style=\"fill:none;fill-rule:evenodd;stroke:#000000;stroke-width:2.0px;stroke-linecap:butt;stroke-linejoin:miter;stroke-opacity:1\"/>\n",
       "<path class=\"bond-3 atom-4 atom-0\" d=\"M 329.1,218.7 L 310.0,126.2\" style=\"fill:none;fill-rule:evenodd;stroke:#000000;stroke-width:2.0px;stroke-linecap:butt;stroke-linejoin:miter;stroke-opacity:1\"/>\n",
       "<path class=\"bond-4 atom-4 atom-3\" d=\"M 329.1,218.7 L 294.2,238.6\" style=\"fill:none;fill-rule:evenodd;stroke:#000000;stroke-width:2.0px;stroke-linecap:butt;stroke-linejoin:miter;stroke-opacity:1\"/>\n",
       "<path class=\"bond-4 atom-4 atom-3\" d=\"M 294.2,238.6 L 259.3,258.5\" style=\"fill:none;fill-rule:evenodd;stroke:#CCCC00;stroke-width:2.0px;stroke-linecap:butt;stroke-linejoin:miter;stroke-opacity:1\"/>\n",
       "<path class=\"bond-5 atom-5 atom-0\" d=\"M 359.3,72.0 L 310.0,126.2\" style=\"fill:none;fill-rule:evenodd;stroke:#000000;stroke-width:2.0px;stroke-linecap:butt;stroke-linejoin:miter;stroke-opacity:1\"/>\n",
       "<path class=\"bond-6 atom-6 atom-1\" d=\"M 179.2,51.1 L 216.1,115.8\" style=\"fill:none;fill-rule:evenodd;stroke:#000000;stroke-width:2.0px;stroke-linecap:butt;stroke-linejoin:miter;stroke-opacity:1\"/>\n",
       "<path class=\"bond-7 atom-7 atom-2\" d=\"M 99.0,218.1 L 177.3,201.9\" style=\"fill:none;fill-rule:evenodd;stroke:#000000;stroke-width:2.0px;stroke-linecap:butt;stroke-linejoin:miter;stroke-opacity:1\"/>\n",
       "<path class=\"bond-8 atom-8 atom-4\" d=\"M 401.0,251.1 L 329.1,218.7\" style=\"fill:none;fill-rule:evenodd;stroke:#000000;stroke-width:2.0px;stroke-linecap:butt;stroke-linejoin:miter;stroke-opacity:1\"/>\n",
       "<path class=\"atom-3\" d=\"M 239.1 275.2 Q 239.4 275.3, 240.8 275.8 Q 242.1 276.4, 243.5 276.8 Q 245.0 277.1, 246.4 277.1 Q 249.1 277.1, 250.7 275.8 Q 252.2 274.5, 252.2 272.2 Q 252.2 270.6, 251.4 269.7 Q 250.7 268.7, 249.5 268.2 Q 248.3 267.7, 246.3 267.1 Q 243.8 266.3, 242.2 265.6 Q 240.8 264.9, 239.7 263.4 Q 238.6 261.8, 238.6 259.3 Q 238.6 255.7, 241.0 253.5 Q 243.5 251.3, 248.3 251.3 Q 251.6 251.3, 255.3 252.9 L 254.4 256.0 Q 251.0 254.6, 248.4 254.6 Q 245.6 254.6, 244.1 255.7 Q 242.6 256.8, 242.6 258.8 Q 242.6 260.3, 243.4 261.2 Q 244.2 262.2, 245.3 262.7 Q 246.5 263.2, 248.4 263.8 Q 251.0 264.6, 252.5 265.4 Q 254.0 266.2, 255.1 267.8 Q 256.2 269.4, 256.2 272.2 Q 256.2 276.1, 253.6 278.2 Q 251.0 280.3, 246.6 280.3 Q 244.1 280.3, 242.2 279.8 Q 240.3 279.2, 238.0 278.3 L 239.1 275.2 \" fill=\"#CCCC00\"/>\n",
       "<path class=\"atom-5\" d=\"M 362.5 42.2 L 366.3 42.2 L 366.3 54.3 L 380.8 54.3 L 380.8 42.2 L 384.6 42.2 L 384.6 70.5 L 380.8 70.5 L 380.8 57.5 L 366.3 57.5 L 366.3 70.5 L 362.5 70.5 L 362.5 42.2 \" fill=\"#000000\"/>\n",
       "<path class=\"atom-6\" d=\"M 158.3 19.7 L 162.1 19.7 L 162.1 31.7 L 176.6 31.7 L 176.6 19.7 L 180.4 19.7 L 180.4 48.0 L 176.6 48.0 L 176.6 34.9 L 162.1 34.9 L 162.1 48.0 L 158.3 48.0 L 158.3 19.7 \" fill=\"#000000\"/>\n",
       "<path class=\"atom-7\" d=\"M 73.8 206.9 L 77.6 206.9 L 77.6 218.9 L 92.1 218.9 L 92.1 206.9 L 95.9 206.9 L 95.9 235.2 L 92.1 235.2 L 92.1 222.1 L 77.6 222.1 L 77.6 235.2 L 73.8 235.2 L 73.8 206.9 \" fill=\"#000000\"/>\n",
       "<path class=\"atom-8\" d=\"M 404.1 243.4 L 407.9 243.4 L 407.9 255.4 L 422.4 255.4 L 422.4 243.4 L 426.2 243.4 L 426.2 271.7 L 422.4 271.7 L 422.4 258.6 L 407.9 258.6 L 407.9 271.7 L 404.1 271.7 L 404.1 243.4 \" fill=\"#000000\"/>\n",
       "<path class=\"atom-0\" d=\"M 324.0,126.2 L 324.0,126.4 L 324.0,126.6 L 323.9,126.7 L 323.9,126.9 L 323.8,127.1 L 323.7,127.2 L 323.6,127.3 L 323.5,127.5 L 323.4,127.6 L 323.3,127.7 L 323.2,127.8 L 323.0,127.9 L 322.9,128.0 L 322.7,128.1 L 322.5,128.1 L 322.4,128.2 L 322.2,128.2 L 322.0,128.2 L 321.9,128.2 L 321.7,128.2 L 321.5,128.2 L 321.4,128.1 L 321.2,128.1 L 321.0,128.0 L 320.9,127.9 L 320.8,127.8 L 320.6,127.7 L 320.5,127.6 L 320.4,127.4 L 320.3,127.3 L 320.2,127.1 L 320.1,127.0 L 320.1,126.8 L 320.0,126.6 L 320.0,126.5 L 320.0,126.3 L 320.0,126.1 L 320.0,126.0 L 320.0,125.8 L 320.1,125.6 L 320.1,125.5 L 320.2,125.3 L 320.3,125.2 L 320.4,125.0 L 320.5,124.9 L 320.6,124.8 L 320.8,124.6 L 320.9,124.5 L 321.0,124.5 L 321.2,124.4 L 321.4,124.3 L 321.5,124.3 L 321.7,124.2 L 321.9,124.2 L 322.0,124.2 L 322.2,124.2 L 322.4,124.3 L 322.5,124.3 L 322.7,124.3 L 322.9,124.4 L 323.0,124.5 L 323.2,124.6 L 323.3,124.7 L 323.4,124.8 L 323.5,124.9 L 323.6,125.1 L 323.7,125.2 L 323.8,125.4 L 323.9,125.5 L 323.9,125.7 L 324.0,125.9 L 324.0,126.0 L 324.0,126.2 L 322.0,126.2 Z\" style=\"fill:#000000;fill-rule:evenodd;fill-opacity:1;stroke:#000000;stroke-width:0.0px;stroke-linecap:butt;stroke-linejoin:miter;stroke-opacity:1;\"/>\n",
       "<path class=\"atom-1\" d=\"M 206.1,115.8 L 206.1,116.0 L 206.1,116.2 L 206.1,116.4 L 206.0,116.5 L 206.0,116.7 L 205.9,116.8 L 205.8,117.0 L 205.7,117.1 L 205.6,117.2 L 205.4,117.4 L 205.3,117.5 L 205.2,117.6 L 205.0,117.6 L 204.9,117.7 L 204.7,117.8 L 204.5,117.8 L 204.4,117.8 L 204.2,117.8 L 204.0,117.8 L 203.8,117.8 L 203.7,117.8 L 203.5,117.7 L 203.3,117.7 L 203.2,117.6 L 203.0,117.5 L 202.9,117.4 L 202.8,117.3 L 202.7,117.2 L 202.5,117.1 L 202.4,116.9 L 202.4,116.8 L 202.3,116.6 L 202.2,116.4 L 202.2,116.3 L 202.2,116.1 L 202.1,115.9 L 202.1,115.8 L 202.2,115.6 L 202.2,115.4 L 202.2,115.3 L 202.3,115.1 L 202.4,114.9 L 202.4,114.8 L 202.5,114.6 L 202.7,114.5 L 202.8,114.4 L 202.9,114.3 L 203.0,114.2 L 203.2,114.1 L 203.3,114.0 L 203.5,114.0 L 203.7,113.9 L 203.8,113.9 L 204.0,113.9 L 204.2,113.8 L 204.4,113.9 L 204.5,113.9 L 204.7,113.9 L 204.9,114.0 L 205.0,114.0 L 205.2,114.1 L 205.3,114.2 L 205.4,114.3 L 205.6,114.4 L 205.7,114.6 L 205.8,114.7 L 205.9,114.9 L 206.0,115.0 L 206.0,115.2 L 206.1,115.3 L 206.1,115.5 L 206.1,115.7 L 206.1,115.8 L 204.1,115.8 Z\" style=\"fill:#000000;fill-rule:evenodd;fill-opacity:1;stroke:#000000;stroke-width:0.0px;stroke-linecap:butt;stroke-linejoin:miter;stroke-opacity:1;\"/>\n",
       "<path class=\"atom-2\" d=\"M 167.3,201.9 L 167.3,202.1 L 167.3,202.2 L 167.2,202.4 L 167.2,202.6 L 167.1,202.7 L 167.0,202.9 L 166.9,203.0 L 166.8,203.2 L 166.7,203.3 L 166.6,203.4 L 166.5,203.5 L 166.3,203.6 L 166.2,203.7 L 166.0,203.8 L 165.8,203.8 L 165.7,203.9 L 165.5,203.9 L 165.3,203.9 L 165.2,203.9 L 165.0,203.9 L 164.8,203.8 L 164.6,203.8 L 164.5,203.7 L 164.3,203.7 L 164.2,203.6 L 164.0,203.5 L 163.9,203.4 L 163.8,203.2 L 163.7,203.1 L 163.6,203.0 L 163.5,202.8 L 163.4,202.7 L 163.4,202.5 L 163.3,202.3 L 163.3,202.2 L 163.3,202.0 L 163.3,201.8 L 163.3,201.6 L 163.3,201.5 L 163.4,201.3 L 163.4,201.1 L 163.5,201.0 L 163.6,200.8 L 163.7,200.7 L 163.8,200.6 L 163.9,200.4 L 164.0,200.3 L 164.2,200.2 L 164.3,200.1 L 164.5,200.1 L 164.6,200.0 L 164.8,200.0 L 165.0,199.9 L 165.2,199.9 L 165.3,199.9 L 165.5,199.9 L 165.7,199.9 L 165.8,200.0 L 166.0,200.0 L 166.2,200.1 L 166.3,200.2 L 166.5,200.3 L 166.6,200.4 L 166.7,200.5 L 166.8,200.6 L 166.9,200.8 L 167.0,200.9 L 167.1,201.1 L 167.2,201.2 L 167.2,201.4 L 167.3,201.6 L 167.3,201.7 L 167.3,201.9 L 165.3,201.9 Z\" style=\"fill:#000000;fill-rule:evenodd;fill-opacity:1;stroke:#000000;stroke-width:0.0px;stroke-linecap:butt;stroke-linejoin:miter;stroke-opacity:1;\"/>\n",
       "<path class=\"atom-4\" d=\"M 343.1,218.7 L 343.1,218.8 L 343.1,219.0 L 343.1,219.2 L 343.0,219.3 L 342.9,219.5 L 342.9,219.7 L 342.8,219.8 L 342.7,219.9 L 342.5,220.1 L 342.4,220.2 L 342.3,220.3 L 342.1,220.4 L 342.0,220.5 L 341.8,220.5 L 341.7,220.6 L 341.5,220.6 L 341.3,220.7 L 341.2,220.7 L 341.0,220.7 L 340.8,220.6 L 340.7,220.6 L 340.5,220.6 L 340.3,220.5 L 340.2,220.4 L 340.0,220.3 L 339.9,220.2 L 339.8,220.1 L 339.6,220.0 L 339.5,219.9 L 339.4,219.7 L 339.3,219.6 L 339.3,219.4 L 339.2,219.3 L 339.2,219.1 L 339.1,218.9 L 339.1,218.8 L 339.1,218.6 L 339.1,218.4 L 339.2,218.2 L 339.2,218.1 L 339.3,217.9 L 339.3,217.8 L 339.4,217.6 L 339.5,217.5 L 339.6,217.3 L 339.8,217.2 L 339.9,217.1 L 340.0,217.0 L 340.2,216.9 L 340.3,216.8 L 340.5,216.8 L 340.7,216.7 L 340.8,216.7 L 341.0,216.7 L 341.2,216.7 L 341.3,216.7 L 341.5,216.7 L 341.7,216.7 L 341.8,216.8 L 342.0,216.9 L 342.1,216.9 L 342.3,217.0 L 342.4,217.2 L 342.5,217.3 L 342.7,217.4 L 342.8,217.5 L 342.9,217.7 L 342.9,217.8 L 343.0,218.0 L 343.1,218.2 L 343.1,218.3 L 343.1,218.5 L 343.1,218.7 L 341.1,218.7 Z\" style=\"fill:#000000;fill-rule:evenodd;fill-opacity:1;stroke:#000000;stroke-width:0.0px;stroke-linecap:butt;stroke-linejoin:miter;stroke-opacity:1;\"/>\n",
       "</svg>"
      ],
      "text/plain": [
       "<IPython.core.display.SVG object>"
      ]
     },
     "execution_count": 3,
     "metadata": {},
     "output_type": "execute_result"
    }
   ],
   "source": [
    "compound = Molecule.from_file(\"ben.sdf\",file_format = \"sdf\")\n",
    "compound.visualize()"
   ]
  },
  {
   "cell_type": "code",
   "execution_count": 5,
   "id": "c8f063b5",
   "metadata": {
    "scrolled": false
   },
   "outputs": [
    {
     "name": "stdout",
     "output_type": "stream",
     "text": [
      "im on: 0\n",
      "im on: 1\n",
      "im on: 2\n",
      "im on: 3\n",
      "im on: 4\n",
      "im on: 8\n",
      "1\n",
      "6\n",
      "2\n",
      "im on: 7\n",
      "1\n",
      "6\n",
      "im on: 6\n",
      "1\n",
      "12\n",
      "im on: 5\n",
      "1\n",
      "12\n"
     ]
    }
   ],
   "source": [
    "def walk_molecule(atom, mol, visited, happy):\n",
    "    octet = {\n",
    "        6 : 4,\n",
    "        7 : 3,\n",
    "        1 : 1,\n",
    "        8 : 2,\n",
    "        16 : 2}\n",
    "    visited[atom.molecule_atom_index]=True\n",
    "    bonds = [b for b in mol.bonds if atom.molecule_atom_index in [b.atom1_index,b.atom2_index]]\n",
    "    current_order = numpy.sum([int(b.bond_order) for b in bonds])\n",
    "    print(\"im on:\",atom.molecule_atom_index)\n",
    "#    if current_order < octet[atom.atomic_number]:\n",
    "#        add_order = 1\n",
    "#        happy[atom.molecule_atom_index] = False\n",
    "#    if current_order > octet[atom.atomic_number]:\n",
    "#        add_order = -1\n",
    "    add_order = 0\n",
    "    if current_order == octet[atom.atomic_number]:\n",
    "        happy[atom.molecule_atom_index] = True\n",
    "    else:\n",
    "        add_order = 1\n",
    "        happy[atom.molecule_atom_index] = False\n",
    "    #print(add_order)\n",
    "    for b in bonds:\n",
    "        next_atom = b.atom1\n",
    "        if b.atom1_index == atom.molecule_atom_index:\n",
    "            next_atom = b.atom2\n",
    "        if visited[next_atom.molecule_atom_index] == False:\n",
    "            #new_order = numpy.sum([int(b.bond_order) for b in bonds])\n",
    "            walk_molecule(mol.atoms[next_atom.molecule_atom_index],compound,visited,happy)\n",
    "        if current_order == octet[next_atom.atomic_number]:\n",
    "            happy[next_atom.molecule_atom_index] = True\n",
    "        else: \n",
    "            happy[next_atom.molecule_atom_index] = False\n",
    "        if happy[atom.molecule_atom_index] == False and happy[next_atom.molecule_atom_index] == False:\n",
    "            bonds[0].bond_order += add_order\n",
    "\n",
    "\n",
    "walk_molecule(compound.atoms[0],compound,[False]*len(compound.atoms),[False]*len(compound.atoms))"
   ]
  },
  {
   "cell_type": "code",
   "execution_count": null,
   "id": "57b6940b",
   "metadata": {},
   "outputs": [],
   "source": [
    "compound.visualize()"
   ]
  },
  {
   "cell_type": "code",
   "execution_count": null,
   "id": "ad04ba20",
   "metadata": {},
   "outputs": [],
   "source": [
    "#bond_list = [b for b in compound.bonds if 1 not in [b.atom1.atomic_number, b.atom2.atomic_number]]\n",
    "#atom_list = [a for a in compound.atoms if 1 not in [a.atomic_number]]\n",
    "#def add_bonds(atom1_index, atom2_index, mol):\n",
    "#    change_bonds1 = [b for b in mol.bonds if atom1_index in [b.atom1_index,b.atom2_index]]\n",
    "#    change_bonds2 = [b for b in change_bonds1 if atom2_index in [b.atom1_index,b.atom2_index]]\n",
    "#    change_bond = change_bonds2[0]\n",
    "#    original_order = change_bond.bond_order\n",
    "#    change_bond.bond_order = original_order + 1\n",
    "#    print(change_bond.bond_order)\n",
    "#add_bonds(1,2,compound)\n",
    "#add_bonds(4,5,compound)\n",
    "#add_bonds(6,7,compound)\n",
    "#add_bonds(0,8,compound)"
   ]
  },
  {
   "cell_type": "code",
   "execution_count": null,
   "id": "516653b3",
   "metadata": {},
   "outputs": [],
   "source": []
  }
 ],
 "metadata": {
  "kernelspec": {
   "display_name": "Python 3 (ipykernel)",
   "language": "python",
   "name": "python3"
  },
  "language_info": {
   "codemirror_mode": {
    "name": "ipython",
    "version": 3
   },
   "file_extension": ".py",
   "mimetype": "text/x-python",
   "name": "python",
   "nbconvert_exporter": "python",
   "pygments_lexer": "ipython3",
   "version": "3.9.15"
  }
 },
 "nbformat": 4,
 "nbformat_minor": 5
}
