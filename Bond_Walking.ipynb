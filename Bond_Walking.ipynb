{
 "cells": [
  {
   "cell_type": "code",
   "execution_count": 2,
   "id": "dff65556",
   "metadata": {},
   "outputs": [
    {
     "name": "stderr",
     "output_type": "stream",
     "text": [
      "Warning: importing 'simtk.openmm' is deprecated.  Import 'openmm' instead.\n",
      "Warning: Unable to load toolkit 'OpenEye Toolkit'. The Open Force Field Toolkit does not require the OpenEye Toolkits, and can use RDKit/AmberTools instead. However, if you have a valid license for the OpenEye Toolkits, consider installing them for faster performance and additional file format support: https://docs.eyesopen.com/toolkits/python/quickstart-python/linuxosx.html OpenEye offers free Toolkit licenses for academics: https://www.eyesopen.com/academic-licensing\n"
     ]
    }
   ],
   "source": [
    "import mbuild as mb\n",
    "from openff.toolkit.topology import Molecule\n",
    "import random\n",
    "import numpy\n",
    "import warnings\n",
    "warnings.filterwarnings(\"ignore\")"
   ]
  },
  {
   "cell_type": "code",
   "execution_count": 3,
   "id": "2577f5a9",
   "metadata": {},
   "outputs": [],
   "source": [
    "thiophene = mb.load(\"c1ccsc1\",smiles=True)\n",
    "thiophene.save(\"thio.sdf\",overwrite=True)"
   ]
  },
  {
   "cell_type": "code",
   "execution_count": 4,
   "id": "2b6bc902",
   "metadata": {
    "scrolled": false
   },
   "outputs": [],
   "source": [
    "#compound = Molecule.from_file(\"thio.sdf\",file_format = \"sdf\")\n",
    "#compound.visualize()"
   ]
  },
  {
   "cell_type": "code",
   "execution_count": 12,
   "id": "c8f063b5",
   "metadata": {
    "scrolled": false
   },
   "outputs": [
    {
     "name": "stdout",
     "output_type": "stream",
     "text": [
      "im on 0, which is a 6\n",
      "\t too few electrons, let's try increasing some bond order\n",
      "\t and now I have the right number of bonds\n",
      "0\n",
      "im on 1, which is a 6\n",
      "\t and now I have the right number of bonds\n",
      "\t and now I have the right number of bonds\n",
      "0\n",
      "im on 2, which is a 6\n",
      "\t too few electrons, let's try increasing some bond order\n",
      "\t and now I have the right number of bonds\n",
      "0\n",
      "im on 3, which is a 16\n",
      "\t and now I have the right number of bonds\n",
      "\t and now I have the right number of bonds\n",
      "0\n",
      "im on 4, which is a 6\n",
      "\t too few electrons, let's try increasing some bond order\n",
      "\t and now I have the right number of bonds\n",
      "0\n",
      "im on 8, which is a 1\n",
      "\t and now I have the right number of bonds\n",
      "\t and now I have the right number of bonds\n",
      "0\n",
      "im on 7, which is a 1\n",
      "\t and now I have the right number of bonds\n",
      "\t and now I have the right number of bonds\n",
      "0\n",
      "im on 6, which is a 1\n",
      "\t and now I have the right number of bonds\n",
      "\t and now I have the right number of bonds\n",
      "0\n",
      "im on 5, which is a 1\n",
      "\t and now I have the right number of bonds\n",
      "\t and now I have the right number of bonds\n",
      "0\n"
     ]
    }
   ],
   "source": [
    "octet = {\n",
    "        6 : 4,\n",
    "        7 : 3,\n",
    "        1 : 1,\n",
    "        8 : 2,\n",
    "        16 : 2}\n",
    "\n",
    "def walk_molecule(atom, mol, visited, happy):\n",
    "    visited[atom.molecule_atom_index]=True\n",
    "    bonds = [b for b in mol.bonds if atom.molecule_atom_index in [b.atom1_index,b.atom2_index]]\n",
    "    current_order = numpy.sum([int(b.bond_order) for b in bonds])\n",
    "    print(\"im on {}, which is a {}\".format(atom.molecule_atom_index,atom.atomic_number) )\n",
    "    target = octet[atom.atomic_number]\n",
    "    for b in bonds:\n",
    "        next_atom = b.atom1\n",
    "        if b.atom1_index == atom.molecule_atom_index:\n",
    "            next_atom = b.atom2\n",
    "        add_order = 0\n",
    "    if current_order > target:\n",
    "        print(\"\\t too many electrons, decrementing the bond I came from\")\n",
    "        happy[atom.molecule_atom_index] = False\n",
    "        add_order = -1\n",
    "    if current_order == target:\n",
    "        happy[atom.molecule_atom_index] = True\n",
    "        print(\"\\t and now I have the right number of bonds\")\n",
    "    if current_order < target:\n",
    "        happy[atom.molecule_atom_index ] = False\n",
    "        print(\"\\t too few electrons, let's try increasing some bond order\")\n",
    "        add_order = 1   \n",
    "    #this is creating a list with only the bond between atom and next atom\n",
    "    inc_bond = [ib for ib in bonds if next_atom.molecule_atom_index in [b.atom1_index,b.atom2_index]]\n",
    "    inc_bond[0].bond_order += add_order  \n",
    "    \n",
    "    new_order = numpy.sum([int(b.bond_order) for b in bonds])\n",
    "    if new_order > target:\n",
    "        print(\"\\t too many electrons, decrementing the bond I came from\")\n",
    "        visited[atom.molecule_atom_index]==False\n",
    "        new_add_order = -1 \n",
    "    if new_order == target:\n",
    "        #happy[atom.molecule_atom_index] = True\n",
    "        new_add_order =0\n",
    "        print(\"\\t and now I have the right number of bonds\")\n",
    "    if new_order < target:\n",
    "        #happy[atom.molecule_atom_index ] = False\n",
    "        print(\"\\t too few electrons, let's try increasing some bond order\") \n",
    "    inc_bond = [ib for ib in bonds if next_atom.molecule_atom_index in [b.atom1_index,b.atom2_index]]\n",
    "    inc_bond[0].bond_order += new_add_order\n",
    "    print(new_add_order)  #should be -1 for atom 1, because it has a bond order of 5, but its not??\n",
    "    for b in bonds:\n",
    "        next_atom = b.atom1\n",
    "        if b.atom1_index == atom.molecule_atom_index:\n",
    "            next_atom = b.atom2 \n",
    "        if visited[next_atom.molecule_atom_index] == False:\n",
    "            walk_molecule(mol.atoms[next_atom.molecule_atom_index],compound,visited,happy)\n",
    "            \"\"\"let's just increase the bond order of this \n",
    "            bond and try walking to the next atom, \n",
    "            aiming to come back if it's too high\"\"\"\n",
    "    \"\"\"inc_bond cant be in for loop or it adds \n",
    "    add_order onto the bondorder 3 times instead of once\"\"\"\n",
    "\n",
    "            \n",
    "compound = Molecule.from_file(\"thio.sdf\",file_format = \"sdf\")\n",
    "walk_molecule(compound.atoms[0],compound,[False]*len(compound.atoms),[False]*len(compound.atoms))"
   ]
  },
  {
   "cell_type": "code",
   "execution_count": 8,
   "id": "cdb39de9",
   "metadata": {},
   "outputs": [
    {
     "data": {
      "text/plain": [
       "5"
      ]
     },
     "execution_count": 8,
     "metadata": {},
     "output_type": "execute_result"
    }
   ],
   "source": [
    "bonds = [b for b in compound.bonds if 1 in [b.atom1_index,b.atom2_index]]\n",
    "current_order = numpy.sum([int(b.bond_order) for b in bonds])\n",
    "current_order"
   ]
  },
  {
   "cell_type": "code",
   "execution_count": 9,
   "id": "d7119747",
   "metadata": {},
   "outputs": [
    {
     "name": "stdout",
     "output_type": "stream",
     "text": [
      "1 0\n",
      "2\n",
      "2 1\n",
      "2\n",
      "3 2\n",
      "1\n",
      "4 0\n",
      "2\n",
      "4 3\n",
      "1\n",
      "5 0\n",
      "1\n",
      "6 1\n",
      "1\n",
      "7 2\n",
      "1\n",
      "8 4\n",
      "1\n"
     ]
    }
   ],
   "source": [
    "##check to see which bond orders increased and which indices belong to the bond. \n",
    "bond_list = [b for b in compound.bonds]\n",
    "for b in bond_list:\n",
    "    print(b.atom1_index,b.atom2_index)\n",
    "    print(b.bond_order)"
   ]
  },
  {
   "cell_type": "code",
   "execution_count": null,
   "id": "57b6940b",
   "metadata": {},
   "outputs": [],
   "source": [
    "compound.visualize()"
   ]
  },
  {
   "cell_type": "code",
   "execution_count": null,
   "id": "ad04ba20",
   "metadata": {},
   "outputs": [],
   "source": [
    "#bond_list = [b for b in compound.bonds if 1 not in [b.atom1.atomic_number, b.atom2.atomic_number]]\n",
    "#atom_list = [a for a in compound.atoms if 1 not in [a.atomic_number]]\n",
    "#def add_bonds(atom1_index, atom2_index, mol):\n",
    "#    change_bonds1 = [b for b in mol.bonds if atom1_index in [b.atom1_index,b.atom2_index]]\n",
    "#    change_bonds2 = [b for b in change_bonds1 if atom2_index in [b.atom1_index,b.atom2_index]]\n",
    "#    change_bond = change_bonds2[0]\n",
    "#    original_order = change_bond.bond_order\n",
    "#    change_bond.bond_order = original_order + 1\n",
    "#    print(change_bond.bond_order)\n",
    "#add_bonds(1,2,compound)\n",
    "#add_bonds(4,5,compound)\n",
    "#add_bonds(6,7,compound)\n",
    "#add_bonds(0,8,compound)"
   ]
  },
  {
   "cell_type": "code",
   "execution_count": null,
   "id": "516653b3",
   "metadata": {},
   "outputs": [],
   "source": []
  }
 ],
 "metadata": {
  "kernelspec": {
   "display_name": "Python 3 (ipykernel)",
   "language": "python",
   "name": "python3"
  },
  "language_info": {
   "codemirror_mode": {
    "name": "ipython",
    "version": 3
   },
   "file_extension": ".py",
   "mimetype": "text/x-python",
   "name": "python",
   "nbconvert_exporter": "python",
   "pygments_lexer": "ipython3",
   "version": "3.9.15"
  }
 },
 "nbformat": 4,
 "nbformat_minor": 5
}
