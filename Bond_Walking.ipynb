{
 "cells": [
  {
   "cell_type": "code",
   "execution_count": 1,
   "id": "559f3139",
   "metadata": {},
   "outputs": [
    {
     "name": "stderr",
     "output_type": "stream",
     "text": [
      "Warning: importing 'simtk.openmm' is deprecated.  Import 'openmm' instead.\n",
      "Warning: Unable to load toolkit 'OpenEye Toolkit'. The Open Force Field Toolkit does not require the OpenEye Toolkits, and can use RDKit/AmberTools instead. However, if you have a valid license for the OpenEye Toolkits, consider installing them for faster performance and additional file format support: https://docs.eyesopen.com/toolkits/python/quickstart-python/linuxosx.html OpenEye offers free Toolkit licenses for academics: https://www.eyesopen.com/academic-licensing\n"
     ]
    }
   ],
   "source": [
    "import mbuild as mb\n",
    "from openff.toolkit.topology import Molecule\n",
    "import random\n",
    "import numpy\n",
    "import random\n",
    "import warnings\n",
    "warnings.filterwarnings(\"ignore\")\n",
    "\n",
    "octet = {        6 : 4, 7 : 3,1 : 1,8 : 2,16 : 2}\n",
    "atom_type = {6:\"C\",7:\"N\",8:\"O\",1:\"H\",16:\"S\"}\n",
    "\n",
    "class MadAtom():\n",
    "    \n",
    "    def check_happy(self):\n",
    "        if self.desired_order == self.current_order:\n",
    "            self.happy = True\n",
    "            return\n",
    "        self.happy= False\n",
    "    \n",
    "    def add_order(self,o):\n",
    "        self.current_order += o\n",
    "        self.check_happy()\n",
    "        for b in self.bonds:\n",
    "            b.check_done()\n",
    "    \n",
    "    def status(self):\n",
    "        return self.desired_order - self.current_order\n",
    "    \n",
    "    def __str__(self):\n",
    "        return \"{}{}: {}-{}, {}\".format(atom_type[self.atomic_number],self.index,self.desired_order,self.current_order,self.happy)\n",
    "    \n",
    "    def __init__(self, i, an, do, co ):\n",
    "        self.index = i\n",
    "        self.atomic_number = an\n",
    "        self.desired_order = do \n",
    "        self.current_order = co\n",
    "        self.happy = False\n",
    "        self.check_happy()\n",
    "        self.bonds = []\n",
    "\n",
    "class MadBond():\n",
    "    def __init__(self,a1,a2,bo,i):\n",
    "        self.atom1 = a1\n",
    "        self.atom2 = a2\n",
    "        self.order = bo\n",
    "        self.happy = False\n",
    "        self.index = i\n",
    "        \n",
    "    def __repr__(self):\n",
    "        return \"Bond {} {}{}-{}{} O={}, {}. \".format(self.index,atom_type[self.atom1.atomic_number],self.atom1.index,atom_type[self.atom2.atomic_number],self.atom2.index,self.order,self.happy)\n",
    "    \n",
    "    def check_done(self):\n",
    "        if self.atom1.atomic_number == 1:\n",
    "            self.happy = True\n",
    "            return\n",
    "        if self.atom2.atomic_number == 1:\n",
    "            self.happy = True\n",
    "            return\n",
    "        if self.atom1.happy and self.atom2.happy:\n",
    "            self.happy = True\n",
    "            return\n",
    "        self.happy = False\n",
    "    \n",
    "    def add_order(self,o):\n",
    "        self.order += o\n",
    "        self.atom1.add_order(o)\n",
    "        self.atom2.add_order(o)\n",
    "        self.check_done()\n",
    "        \n",
    "class BondWalker():\n",
    "\n",
    "    def __init__(self, mol):\n",
    "        self.mol = mol\n",
    "        self.atom_list = []\n",
    "        for atom in mol.atoms:\n",
    "            self.atom_list.append(MadAtom(atom.molecule_atom_index, atom.atomic_number, octet[atom.atomic_number], len([b for b in mol.bonds if atom.molecule_atom_index in [b.atom1_index,b.atom2_index]]) )) #assumes we have no double bonds at the start\n",
    "        self.bond_list = [MadBond(self.atom_list[b.atom1_index],self.atom_list[b.atom2_index],b.bond_order,i) for i,b in enumerate(mol.bonds)] # .bond_order inside each of these, and can use atom1_index atom2_index\n",
    "        for b in self.bond_list: \n",
    "            b.atom1.bonds.append(b)\n",
    "            b.atom2.bonds.append(b)\n",
    "            b.check_done()\n",
    "            \n",
    "    def done(self):\n",
    "        for i in self.atom_list:\n",
    "            if i.happy == False:\n",
    "                return False\n",
    "        for i in self.bond_list:\n",
    "            if i.happy == False:\n",
    "                return False\n",
    "        return True\n",
    "    \n",
    "    def bond_increasable(self, b):\n",
    "        if not b.atom1.happy and not b.atom2.happy:\n",
    "            if b.atom1.status() > 0:\n",
    "                if b.atom2.status() >0:\n",
    "                    b.add_order(1) #this triggers each atom to increment, and *their* bonds to check happiness\n",
    "                    if self.done():\n",
    "                        return True\n",
    "                    for a in self.atom_list:\n",
    "                        if a.happy == False:\n",
    "                            for bx in a.bonds:\n",
    "                                if self.bond_increasable(bx):\n",
    "                                    return True\n",
    "                            #no bonds around this unhappy atom \"a\" are increasable\n",
    "                            b.add_order(-1)\n",
    "                            return False\n",
    "                        \n",
    "    def fill_in_bonds(self):        \n",
    "        for a in self.atom_list: #since some of the unhappy bonds might end up being OK, let's iterate atoms\n",
    "            if a.happy == False:\n",
    "                for b in a.bonds: #try incrementing every bond around every unhappy atom\n",
    "                    if self.bond_increasable(b):\n",
    "                        print(\"Done!\")\n",
    "                        for b1,b2 in zip(self.bond_list, self.mol.bonds):\n",
    "                            b2.bond_order=b1.order \n",
    "                        return self.mol\n",
    "        print(\"Sorry- I couldn't solve this\")"
   ]
  },
  {
   "cell_type": "code",
   "execution_count": 2,
   "id": "c7813f6c",
   "metadata": {},
   "outputs": [
    {
     "name": "stdout",
     "output_type": "stream",
     "text": [
      "Done!\n"
     ]
    },
    {
     "data": {
      "image/svg+xml": [
       "<svg xmlns=\"http://www.w3.org/2000/svg\" xmlns:rdkit=\"http://www.rdkit.org/xml\" xmlns:xlink=\"http://www.w3.org/1999/xlink\" version=\"1.1\" baseProfile=\"full\" xml:space=\"preserve\" width=\"500px\" height=\"300px\" viewBox=\"0 0 500 300\">\n",
       "<!-- END OF HEADER -->\n",
       "<rect style=\"opacity:1.0;fill:#FFFFFF;stroke:none\" width=\"500.0\" height=\"300.0\" x=\"0.0\" y=\"0.0\"> </rect>\n",
       "<path class=\"bond-0 atom-1 atom-0\" d=\"M 216.1,115.8 L 310.0,126.2\" style=\"fill:none;fill-rule:evenodd;stroke:#000000;stroke-width:2.0px;stroke-linecap:butt;stroke-linejoin:miter;stroke-opacity:1\"/>\n",
       "<path class=\"bond-1 atom-2 atom-1\" d=\"M 177.3,201.9 L 216.1,115.8\" style=\"fill:none;fill-rule:evenodd;stroke:#000000;stroke-width:2.0px;stroke-linecap:butt;stroke-linejoin:miter;stroke-opacity:1\"/>\n",
       "<path class=\"bond-1 atom-2 atom-1\" d=\"M 194.4,198.3 L 224.8,131.1\" style=\"fill:none;fill-rule:evenodd;stroke:#000000;stroke-width:2.0px;stroke-linecap:butt;stroke-linejoin:miter;stroke-opacity:1\"/>\n",
       "<path class=\"bond-2 atom-3 atom-2\" d=\"M 234.9,254.3 L 206.1,228.1\" style=\"fill:none;fill-rule:evenodd;stroke:#CCCC00;stroke-width:2.0px;stroke-linecap:butt;stroke-linejoin:miter;stroke-opacity:1\"/>\n",
       "<path class=\"bond-2 atom-3 atom-2\" d=\"M 206.1,228.1 L 177.3,201.9\" style=\"fill:none;fill-rule:evenodd;stroke:#000000;stroke-width:2.0px;stroke-linecap:butt;stroke-linejoin:miter;stroke-opacity:1\"/>\n",
       "<path class=\"bond-3 atom-4 atom-0\" d=\"M 329.1,218.7 L 310.0,126.2\" style=\"fill:none;fill-rule:evenodd;stroke:#000000;stroke-width:2.0px;stroke-linecap:butt;stroke-linejoin:miter;stroke-opacity:1\"/>\n",
       "<path class=\"bond-3 atom-4 atom-0\" d=\"M 313.2,211.5 L 298.2,139.2\" style=\"fill:none;fill-rule:evenodd;stroke:#000000;stroke-width:2.0px;stroke-linecap:butt;stroke-linejoin:miter;stroke-opacity:1\"/>\n",
       "<path class=\"bond-4 atom-4 atom-3\" d=\"M 329.1,218.7 L 294.2,238.6\" style=\"fill:none;fill-rule:evenodd;stroke:#000000;stroke-width:2.0px;stroke-linecap:butt;stroke-linejoin:miter;stroke-opacity:1\"/>\n",
       "<path class=\"bond-4 atom-4 atom-3\" d=\"M 294.2,238.6 L 259.3,258.5\" style=\"fill:none;fill-rule:evenodd;stroke:#CCCC00;stroke-width:2.0px;stroke-linecap:butt;stroke-linejoin:miter;stroke-opacity:1\"/>\n",
       "<path class=\"bond-5 atom-5 atom-0\" d=\"M 359.3,72.0 L 310.0,126.2\" style=\"fill:none;fill-rule:evenodd;stroke:#000000;stroke-width:2.0px;stroke-linecap:butt;stroke-linejoin:miter;stroke-opacity:1\"/>\n",
       "<path class=\"bond-6 atom-6 atom-1\" d=\"M 179.2,51.1 L 216.1,115.8\" style=\"fill:none;fill-rule:evenodd;stroke:#000000;stroke-width:2.0px;stroke-linecap:butt;stroke-linejoin:miter;stroke-opacity:1\"/>\n",
       "<path class=\"bond-7 atom-7 atom-2\" d=\"M 99.0,218.1 L 177.3,201.9\" style=\"fill:none;fill-rule:evenodd;stroke:#000000;stroke-width:2.0px;stroke-linecap:butt;stroke-linejoin:miter;stroke-opacity:1\"/>\n",
       "<path class=\"bond-8 atom-8 atom-4\" d=\"M 401.0,251.1 L 329.1,218.7\" style=\"fill:none;fill-rule:evenodd;stroke:#000000;stroke-width:2.0px;stroke-linecap:butt;stroke-linejoin:miter;stroke-opacity:1\"/>\n",
       "<path class=\"atom-3\" d=\"M 239.1 275.2 Q 239.4 275.3, 240.8 275.8 Q 242.1 276.4, 243.5 276.8 Q 245.0 277.1, 246.4 277.1 Q 249.1 277.1, 250.7 275.8 Q 252.2 274.5, 252.2 272.2 Q 252.2 270.6, 251.4 269.7 Q 250.7 268.7, 249.5 268.2 Q 248.3 267.7, 246.3 267.1 Q 243.8 266.3, 242.2 265.6 Q 240.8 264.9, 239.7 263.4 Q 238.6 261.8, 238.6 259.3 Q 238.6 255.7, 241.0 253.5 Q 243.5 251.3, 248.3 251.3 Q 251.6 251.3, 255.3 252.9 L 254.4 256.0 Q 251.0 254.6, 248.4 254.6 Q 245.6 254.6, 244.1 255.7 Q 242.6 256.8, 242.6 258.8 Q 242.6 260.3, 243.4 261.2 Q 244.2 262.2, 245.3 262.7 Q 246.5 263.2, 248.4 263.8 Q 251.0 264.6, 252.5 265.4 Q 254.0 266.2, 255.1 267.8 Q 256.2 269.4, 256.2 272.2 Q 256.2 276.1, 253.6 278.2 Q 251.0 280.3, 246.6 280.3 Q 244.1 280.3, 242.2 279.8 Q 240.3 279.2, 238.0 278.3 L 239.1 275.2 \" fill=\"#CCCC00\"/>\n",
       "<path class=\"atom-5\" d=\"M 362.5 42.2 L 366.3 42.2 L 366.3 54.3 L 380.8 54.3 L 380.8 42.2 L 384.6 42.2 L 384.6 70.5 L 380.8 70.5 L 380.8 57.5 L 366.3 57.5 L 366.3 70.5 L 362.5 70.5 L 362.5 42.2 \" fill=\"#000000\"/>\n",
       "<path class=\"atom-6\" d=\"M 158.3 19.7 L 162.1 19.7 L 162.1 31.7 L 176.6 31.7 L 176.6 19.7 L 180.4 19.7 L 180.4 48.0 L 176.6 48.0 L 176.6 34.9 L 162.1 34.9 L 162.1 48.0 L 158.3 48.0 L 158.3 19.7 \" fill=\"#000000\"/>\n",
       "<path class=\"atom-7\" d=\"M 73.8 206.9 L 77.6 206.9 L 77.6 218.9 L 92.1 218.9 L 92.1 206.9 L 95.9 206.9 L 95.9 235.2 L 92.1 235.2 L 92.1 222.1 L 77.6 222.1 L 77.6 235.2 L 73.8 235.2 L 73.8 206.9 \" fill=\"#000000\"/>\n",
       "<path class=\"atom-8\" d=\"M 404.1 243.4 L 407.9 243.4 L 407.9 255.4 L 422.4 255.4 L 422.4 243.4 L 426.2 243.4 L 426.2 271.7 L 422.4 271.7 L 422.4 258.6 L 407.9 258.6 L 407.9 271.7 L 404.1 271.7 L 404.1 243.4 \" fill=\"#000000\"/>\n",
       "</svg>"
      ],
      "text/plain": [
       "<IPython.core.display.SVG object>"
      ]
     },
     "execution_count": 2,
     "metadata": {},
     "output_type": "execute_result"
    }
   ],
   "source": [
    "thiophene = mb.load(\"c1ccsc1\",smiles=True)\n",
    "thiophene.save(\"thio.sdf\",overwrite=True)\n",
    "b= BondWalker(Molecule.from_file(\"thio.sdf\",file_format = \"sdf\"))\n",
    "compound = b.fill_in_bonds()\n",
    "compound.visualize()"
   ]
  },
  {
   "cell_type": "code",
   "execution_count": 3,
   "id": "d208668d",
   "metadata": {},
   "outputs": [
    {
     "name": "stdout",
     "output_type": "stream",
     "text": [
      "Done!\n"
     ]
    },
    {
     "data": {
      "image/svg+xml": [
       "<svg xmlns=\"http://www.w3.org/2000/svg\" xmlns:rdkit=\"http://www.rdkit.org/xml\" xmlns:xlink=\"http://www.w3.org/1999/xlink\" version=\"1.1\" baseProfile=\"full\" xml:space=\"preserve\" width=\"500px\" height=\"300px\" viewBox=\"0 0 500 300\">\n",
       "<!-- END OF HEADER -->\n",
       "<rect style=\"opacity:1.0;fill:#FFFFFF;stroke:none\" width=\"500.0\" height=\"300.0\" x=\"0.0\" y=\"0.0\"> </rect>\n",
       "<path class=\"bond-0 atom-1 atom-0\" d=\"M 283.6,180.8 L 230.2,211.6\" style=\"fill:none;fill-rule:evenodd;stroke:#000000;stroke-width:2.0px;stroke-linecap:butt;stroke-linejoin:miter;stroke-opacity:1\"/>\n",
       "<path class=\"bond-1 atom-2 atom-1\" d=\"M 330.2,195.9 L 306.9,188.3\" style=\"fill:none;fill-rule:evenodd;stroke:#0000FF;stroke-width:2.0px;stroke-linecap:butt;stroke-linejoin:miter;stroke-opacity:1\"/>\n",
       "<path class=\"bond-1 atom-2 atom-1\" d=\"M 306.9,188.3 L 283.6,180.8\" style=\"fill:none;fill-rule:evenodd;stroke:#000000;stroke-width:2.0px;stroke-linecap:butt;stroke-linejoin:miter;stroke-opacity:1\"/>\n",
       "<path class=\"bond-1 atom-2 atom-1\" d=\"M 333.1,187.1 L 312.9,180.6\" style=\"fill:none;fill-rule:evenodd;stroke:#0000FF;stroke-width:2.0px;stroke-linecap:butt;stroke-linejoin:miter;stroke-opacity:1\"/>\n",
       "<path class=\"bond-1 atom-2 atom-1\" d=\"M 312.9,180.6 L 292.8,174.1\" style=\"fill:none;fill-rule:evenodd;stroke:#000000;stroke-width:2.0px;stroke-linecap:butt;stroke-linejoin:miter;stroke-opacity:1\"/>\n",
       "<path class=\"bond-2 atom-3 atom-2\" d=\"M 368.0,164.3 L 360.6,174.5\" style=\"fill:none;fill-rule:evenodd;stroke:#CCCC00;stroke-width:2.0px;stroke-linecap:butt;stroke-linejoin:miter;stroke-opacity:1\"/>\n",
       "<path class=\"bond-2 atom-3 atom-2\" d=\"M 360.6,174.5 L 353.2,184.7\" style=\"fill:none;fill-rule:evenodd;stroke:#0000FF;stroke-width:2.0px;stroke-linecap:butt;stroke-linejoin:miter;stroke-opacity:1\"/>\n",
       "<path class=\"bond-3 atom-4 atom-3\" d=\"M 353.1,115.2 L 360.5,125.4\" style=\"fill:none;fill-rule:evenodd;stroke:#0000FF;stroke-width:2.0px;stroke-linecap:butt;stroke-linejoin:miter;stroke-opacity:1\"/>\n",
       "<path class=\"bond-3 atom-4 atom-3\" d=\"M 360.5,125.4 L 368.0,135.6\" style=\"fill:none;fill-rule:evenodd;stroke:#CCCC00;stroke-width:2.0px;stroke-linecap:butt;stroke-linejoin:miter;stroke-opacity:1\"/>\n",
       "<path class=\"bond-4 atom-5 atom-1\" d=\"M 283.5,119.1 L 283.6,180.8\" style=\"fill:none;fill-rule:evenodd;stroke:#000000;stroke-width:2.0px;stroke-linecap:butt;stroke-linejoin:miter;stroke-opacity:1\"/>\n",
       "<path class=\"bond-5 atom-5 atom-4\" d=\"M 283.5,119.1 L 306.8,111.5\" style=\"fill:none;fill-rule:evenodd;stroke:#000000;stroke-width:2.0px;stroke-linecap:butt;stroke-linejoin:miter;stroke-opacity:1\"/>\n",
       "<path class=\"bond-5 atom-5 atom-4\" d=\"M 306.8,111.5 L 330.2,103.9\" style=\"fill:none;fill-rule:evenodd;stroke:#0000FF;stroke-width:2.0px;stroke-linecap:butt;stroke-linejoin:miter;stroke-opacity:1\"/>\n",
       "<path class=\"bond-5 atom-5 atom-4\" d=\"M 292.8,125.9 L 312.9,119.3\" style=\"fill:none;fill-rule:evenodd;stroke:#000000;stroke-width:2.0px;stroke-linecap:butt;stroke-linejoin:miter;stroke-opacity:1\"/>\n",
       "<path class=\"bond-5 atom-5 atom-4\" d=\"M 312.9,119.3 L 333.0,112.7\" style=\"fill:none;fill-rule:evenodd;stroke:#0000FF;stroke-width:2.0px;stroke-linecap:butt;stroke-linejoin:miter;stroke-opacity:1\"/>\n",
       "<path class=\"bond-6 atom-6 atom-5\" d=\"M 230.1,88.4 L 283.5,119.1\" style=\"fill:none;fill-rule:evenodd;stroke:#000000;stroke-width:2.0px;stroke-linecap:butt;stroke-linejoin:miter;stroke-opacity:1\"/>\n",
       "<path class=\"bond-7 atom-7 atom-6\" d=\"M 188.7,112.3 L 209.4,100.3\" style=\"fill:none;fill-rule:evenodd;stroke:#0000FF;stroke-width:2.0px;stroke-linecap:butt;stroke-linejoin:miter;stroke-opacity:1\"/>\n",
       "<path class=\"bond-7 atom-7 atom-6\" d=\"M 209.4,100.3 L 230.1,88.4\" style=\"fill:none;fill-rule:evenodd;stroke:#000000;stroke-width:2.0px;stroke-linecap:butt;stroke-linejoin:miter;stroke-opacity:1\"/>\n",
       "<path class=\"bond-7 atom-7 atom-6\" d=\"M 193.4,120.3 L 211.7,109.7\" style=\"fill:none;fill-rule:evenodd;stroke:#0000FF;stroke-width:2.0px;stroke-linecap:butt;stroke-linejoin:miter;stroke-opacity:1\"/>\n",
       "<path class=\"bond-7 atom-7 atom-6\" d=\"M 211.7,109.7 L 230.1,99.0\" style=\"fill:none;fill-rule:evenodd;stroke:#000000;stroke-width:2.0px;stroke-linecap:butt;stroke-linejoin:miter;stroke-opacity:1\"/>\n",
       "<path class=\"bond-8 atom-8 atom-0\" d=\"M 176.8,180.9 L 230.2,211.6\" style=\"fill:none;fill-rule:evenodd;stroke:#000000;stroke-width:2.0px;stroke-linecap:butt;stroke-linejoin:miter;stroke-opacity:1\"/>\n",
       "<path class=\"bond-8 atom-8 atom-0\" d=\"M 186.1,175.5 L 230.2,201.0\" style=\"fill:none;fill-rule:evenodd;stroke:#000000;stroke-width:2.0px;stroke-linecap:butt;stroke-linejoin:miter;stroke-opacity:1\"/>\n",
       "<path class=\"bond-9 atom-8 atom-7\" d=\"M 176.8,180.9 L 176.8,157.6\" style=\"fill:none;fill-rule:evenodd;stroke:#000000;stroke-width:2.0px;stroke-linecap:butt;stroke-linejoin:miter;stroke-opacity:1\"/>\n",
       "<path class=\"bond-9 atom-8 atom-7\" d=\"M 176.8,157.6 L 176.8,134.4\" style=\"fill:none;fill-rule:evenodd;stroke:#0000FF;stroke-width:2.0px;stroke-linecap:butt;stroke-linejoin:miter;stroke-opacity:1\"/>\n",
       "<path class=\"bond-10 atom-9 atom-0\" d=\"M 230.3,258.1 L 230.2,211.6\" style=\"fill:none;fill-rule:evenodd;stroke:#000000;stroke-width:2.0px;stroke-linecap:butt;stroke-linejoin:miter;stroke-opacity:1\"/>\n",
       "<path class=\"bond-11 atom-10 atom-6\" d=\"M 230.1,41.9 L 230.1,88.4\" style=\"fill:none;fill-rule:evenodd;stroke:#000000;stroke-width:2.0px;stroke-linecap:butt;stroke-linejoin:miter;stroke-opacity:1\"/>\n",
       "<path class=\"bond-12 atom-11 atom-8\" d=\"M 135.7,204.6 L 176.8,180.9\" style=\"fill:none;fill-rule:evenodd;stroke:#000000;stroke-width:2.0px;stroke-linecap:butt;stroke-linejoin:miter;stroke-opacity:1\"/>\n",
       "<path class=\"atom-2\" d=\"M 336.4 186.7 L 345.0 200.6 Q 345.8 201.9, 347.2 204.4 Q 348.6 206.9, 348.6 207.0 L 348.6 186.7 L 352.1 186.7 L 352.1 212.9 L 348.5 212.9 L 339.3 197.7 Q 338.3 195.9, 337.1 193.9 Q 336.0 191.9, 335.7 191.2 L 335.7 212.9 L 332.3 212.9 L 332.3 186.7 L 336.4 186.7 \" fill=\"#0000FF\"/>\n",
       "<path class=\"atom-3\" d=\"M 371.0 158.9 Q 371.3 159.0, 372.5 159.5 Q 373.7 160.0, 375.1 160.4 Q 376.4 160.7, 377.8 160.7 Q 380.2 160.7, 381.7 159.5 Q 383.1 158.2, 383.1 156.1 Q 383.1 154.7, 382.4 153.8 Q 381.7 152.9, 380.6 152.4 Q 379.5 152.0, 377.6 151.4 Q 375.3 150.7, 373.9 150.0 Q 372.5 149.4, 371.5 148.0 Q 370.5 146.6, 370.5 144.2 Q 370.5 140.9, 372.8 138.9 Q 375.0 136.8, 379.5 136.8 Q 382.5 136.8, 385.9 138.3 L 385.1 141.1 Q 381.9 139.8, 379.6 139.8 Q 377.0 139.8, 375.6 140.9 Q 374.2 141.9, 374.2 143.8 Q 374.2 145.2, 374.9 146.0 Q 375.7 146.9, 376.7 147.3 Q 377.8 147.8, 379.6 148.4 Q 381.9 149.1, 383.3 149.9 Q 384.7 150.6, 385.7 152.1 Q 386.8 153.6, 386.8 156.1 Q 386.8 159.8, 384.3 161.7 Q 381.9 163.6, 377.9 163.6 Q 375.6 163.6, 373.8 163.1 Q 372.1 162.6, 370.0 161.8 L 371.0 158.9 \" fill=\"#CCCC00\"/>\n",
       "<path class=\"atom-4\" d=\"M 336.3 87.0 L 344.9 100.8 Q 345.8 102.2, 347.1 104.7 Q 348.5 107.2, 348.6 107.3 L 348.6 87.0 L 352.1 87.0 L 352.1 113.1 L 348.5 113.1 L 339.3 98.0 Q 338.2 96.2, 337.0 94.2 Q 335.9 92.1, 335.6 91.5 L 335.6 113.1 L 332.2 113.1 L 332.2 87.0 L 336.3 87.0 \" fill=\"#0000FF\"/>\n",
       "<path class=\"atom-7\" d=\"M 171.0 106.1 L 179.6 120.0 Q 180.4 121.4, 181.8 123.9 Q 183.1 126.3, 183.2 126.5 L 183.2 106.1 L 186.7 106.1 L 186.7 132.3 L 183.1 132.3 L 173.9 117.2 Q 172.8 115.4, 171.7 113.4 Q 170.6 111.3, 170.2 110.7 L 170.2 132.3 L 166.8 132.3 L 166.8 106.1 L 171.0 106.1 \" fill=\"#0000FF\"/>\n",
       "<path class=\"atom-9\" d=\"M 220.0 260.2 L 223.6 260.2 L 223.6 271.3 L 237.0 271.3 L 237.0 260.2 L 240.5 260.2 L 240.5 286.4 L 237.0 286.4 L 237.0 274.3 L 223.6 274.3 L 223.6 286.4 L 220.0 286.4 L 220.0 260.2 \" fill=\"#000000\"/>\n",
       "<path class=\"atom-10\" d=\"M 219.8 13.6 L 223.4 13.6 L 223.4 24.8 L 236.8 24.8 L 236.8 13.6 L 240.3 13.6 L 240.3 39.8 L 236.8 39.8 L 236.8 27.7 L 223.4 27.7 L 223.4 39.8 L 219.8 39.8 L 219.8 13.6 \" fill=\"#000000\"/>\n",
       "<path class=\"atom-11\" d=\"M 113.2 198.6 L 116.8 198.6 L 116.8 209.8 L 130.2 209.8 L 130.2 198.6 L 133.7 198.6 L 133.7 224.8 L 130.2 224.8 L 130.2 212.7 L 116.8 212.7 L 116.8 224.8 L 113.2 224.8 L 113.2 198.6 \" fill=\"#000000\"/>\n",
       "</svg>"
      ],
      "text/plain": [
       "<IPython.core.display.SVG object>"
      ]
     },
     "execution_count": 3,
     "metadata": {},
     "output_type": "execute_result"
    }
   ],
   "source": [
    "b= BondWalker(Molecule.from_file(\"pt.sdf\",file_format = \"sdf\"))\n",
    "compound = b.fill_in_bonds()\n",
    "compound.visualize()"
   ]
  },
  {
   "cell_type": "code",
   "execution_count": null,
   "id": "47ea375f",
   "metadata": {},
   "outputs": [],
   "source": []
  }
 ],
 "metadata": {
  "kernelspec": {
   "display_name": "Python 3 (ipykernel)",
   "language": "python",
   "name": "python3"
  },
  "language_info": {
   "codemirror_mode": {
    "name": "ipython",
    "version": 3
   },
   "file_extension": ".py",
   "mimetype": "text/x-python",
   "name": "python",
   "nbconvert_exporter": "python",
   "pygments_lexer": "ipython3",
   "version": "3.9.15"
  }
 },
 "nbformat": 4,
 "nbformat_minor": 5
}
