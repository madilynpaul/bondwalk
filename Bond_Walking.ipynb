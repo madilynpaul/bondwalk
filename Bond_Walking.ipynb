{
 "cells": [
  {
   "cell_type": "code",
   "execution_count": 1,
   "id": "dff65556",
   "metadata": {},
   "outputs": [
    {
     "name": "stderr",
     "output_type": "stream",
     "text": [
      "Warning: importing 'simtk.openmm' is deprecated.  Import 'openmm' instead.\n",
      "Warning: Unable to load toolkit 'OpenEye Toolkit'. The Open Force Field Toolkit does not require the OpenEye Toolkits, and can use RDKit/AmberTools instead. However, if you have a valid license for the OpenEye Toolkits, consider installing them for faster performance and additional file format support: https://docs.eyesopen.com/toolkits/python/quickstart-python/linuxosx.html OpenEye offers free Toolkit licenses for academics: https://www.eyesopen.com/academic-licensing\n"
     ]
    }
   ],
   "source": [
    "import mbuild as mb\n",
    "from openff.toolkit.topology import Molecule\n",
    "import random\n",
    "import numpy\n",
    "import warnings\n",
    "warnings.filterwarnings(\"ignore\")"
   ]
  },
  {
   "cell_type": "code",
   "execution_count": null,
   "id": "2577f5a9",
   "metadata": {},
   "outputs": [],
   "source": [
    "thiophene = mb.load(\"c1ccsc1\",smiles=True)\n",
    "thiophene.save(\"thio.sdf\",overwrite=True)"
   ]
  },
  {
   "cell_type": "code",
   "execution_count": null,
   "id": "2b6bc902",
   "metadata": {
    "scrolled": false
   },
   "outputs": [],
   "source": [
    "#compound = Molecule.from_file(\"thio.sdf\",file_format = \"sdf\")\n",
    "#compound.visualize()"
   ]
  },
  {
   "cell_type": "code",
   "execution_count": 50,
   "id": "c8f063b5",
   "metadata": {
    "scrolled": false
   },
   "outputs": [
    {
     "name": "stdout",
     "output_type": "stream",
     "text": [
      "im on 0, which is a 6\n",
      "\t too few electrons, let's try increasing some bond order\n",
      "im on 1, which is a 6\n",
      "\t and now I have the right number of bonds\n",
      "im on 2, which is a 6\n",
      "\t too few electrons, let's try increasing some bond order\n",
      "im on 3, which is a 16\n",
      "\t and now I have the right number of bonds\n",
      "im on 4, which is a 6\n",
      "\t too few electrons, let's try increasing some bond order\n",
      "im on 8, which is a 1\n",
      "\t and now I have the right number of bonds\n",
      "im on 7, which is a 1\n",
      "\t and now I have the right number of bonds\n",
      "im on 6, which is a 1\n",
      "\t and now I have the right number of bonds\n",
      "im on 5, which is a 1\n",
      "\t and now I have the right number of bonds\n"
     ]
    }
   ],
   "source": [
    "octet = {\n",
    "        6 : 4,\n",
    "        7 : 3,\n",
    "        1 : 1,\n",
    "        8 : 2,\n",
    "        16 : 2}\n",
    "\n",
    "def walk_molecule(atom, mol, visited, happy):\n",
    "    visited[atom.molecule_atom_index]=True\n",
    "    bonds = [b for b in mol.bonds if atom.molecule_atom_index in [b.atom1_index,b.atom2_index]]\n",
    "    current_order = numpy.sum([int(b.bond_order) for b in bonds])\n",
    "    print(\"im on {}, which is a {}\".format(atom.molecule_atom_index,atom.atomic_number) )\n",
    "    target = octet[atom.atomic_number]\n",
    "    add_order = 0\n",
    "    if current_order > target:\n",
    "        print(\"\\t too many electrons, decrementing the bond I came from\")\n",
    "        happy[atom.molecule_atom_index] = False\n",
    "        add_order = -1\n",
    "    if current_order == target:\n",
    "        happy[atom.molecule_atom_index] = True\n",
    "        print(\"\\t and now I have the right number of bonds\")\n",
    "    if current_order < target:\n",
    "        happy[atom.molecule_atom_index ] = False\n",
    "        print(\"\\t too few electrons, let's try increasing some bond order\")\n",
    "        add_order = 1   \n",
    "    for b in bonds:\n",
    "        next_atom = b.atom1\n",
    "        if b.atom1_index == atom.molecule_atom_index:\n",
    "            next_atom = b.atom2\n",
    "    #this is creating a list with only the bond between atom and next atom\n",
    "    inc_bond = [ib for ib in bonds if next_atom.molecule_atom_index in [b.atom1_index,b.atom2_index]]\n",
    "    inc_bond[0].bond_order += add_order\n",
    "    for b in bonds:\n",
    "        next_atom = b.atom1\n",
    "        if b.atom1_index == atom.molecule_atom_index:\n",
    "            next_atom = b.atom2 \n",
    "        if visited[next_atom.molecule_atom_index] == False:\n",
    "            walk_molecule(mol.atoms[next_atom.molecule_atom_index],compound,visited,happy)\n",
    "            \"\"\"let's just increase the bond order of this \n",
    "            bond and try walking to the next atom, \n",
    "            aiming to come back if it's too high\"\"\"\n",
    "    \"\"\"inc_bond cant be in for loop or it adds \n",
    "    add_order onto the bondorder 3 times instead of once\"\"\"\n",
    "\n",
    "            \n",
    "compound = Molecule.from_file(\"thio.sdf\",file_format = \"sdf\")\n",
    "walk_molecule(compound.atoms[0],compound,[False]*len(compound.atoms),[False]*len(compound.atoms))"
   ]
  },
  {
   "cell_type": "code",
   "execution_count": 51,
   "id": "d7119747",
   "metadata": {},
   "outputs": [
    {
     "name": "stdout",
     "output_type": "stream",
     "text": [
      "1 0\n",
      "2\n",
      "2 1\n",
      "2\n",
      "3 2\n",
      "1\n",
      "4 0\n",
      "2\n",
      "4 3\n",
      "1\n",
      "5 0\n",
      "1\n",
      "6 1\n",
      "1\n",
      "7 2\n",
      "1\n",
      "8 4\n",
      "1\n"
     ]
    }
   ],
   "source": [
    "##check to see which bond orders increased and which indices belong to the bond. \n",
    "bond_list = [b for b in compound.bonds]\n",
    "for b in bond_list:\n",
    "    print(b.atom1_index,b.atom2_index)\n",
    "    print(b.bond_order)"
   ]
  },
  {
   "cell_type": "code",
   "execution_count": 45,
   "id": "57b6940b",
   "metadata": {},
   "outputs": [
    {
     "name": "stderr",
     "output_type": "stream",
     "text": [
      "[12:16:42] Explicit valence for atom # 0 C, 5, is greater than permitted\n"
     ]
    },
    {
     "ename": "AtomValenceException",
     "evalue": "Explicit valence for atom # 0 C, 5, is greater than permitted",
     "output_type": "error",
     "traceback": [
      "\u001b[0;31m---------------------------------------------------------------------------\u001b[0m",
      "\u001b[0;31mAtomValenceException\u001b[0m                      Traceback (most recent call last)",
      "Cell \u001b[0;32mIn[45], line 1\u001b[0m\n\u001b[0;32m----> 1\u001b[0m \u001b[43mcompound\u001b[49m\u001b[38;5;241;43m.\u001b[39;49m\u001b[43mvisualize\u001b[49m\u001b[43m(\u001b[49m\u001b[43m)\u001b[49m\n",
      "File \u001b[0;32m~/miniconda3/envs/bondwalk/lib/python3.9/site-packages/openff/toolkit/topology/molecule.py:6224\u001b[0m, in \u001b[0;36mMolecule.visualize\u001b[0;34m(self, backend, width, height, show_all_hydrogens)\u001b[0m\n\u001b[1;32m   6218\u001b[0m \u001b[38;5;28;01mfrom\u001b[39;00m \u001b[38;5;21;01mrdkit\u001b[39;00m\u001b[38;5;21;01m.\u001b[39;00m\u001b[38;5;21;01mChem\u001b[39;00m\u001b[38;5;21;01m.\u001b[39;00m\u001b[38;5;21;01mDraw\u001b[39;00m \u001b[38;5;28;01mimport\u001b[39;00m (  \u001b[38;5;66;03m# type: ignore[import]\u001b[39;00m\n\u001b[1;32m   6219\u001b[0m     rdDepictor,\n\u001b[1;32m   6220\u001b[0m     rdMolDraw2D,\n\u001b[1;32m   6221\u001b[0m )\n\u001b[1;32m   6222\u001b[0m \u001b[38;5;28;01mfrom\u001b[39;00m \u001b[38;5;21;01mrdkit\u001b[39;00m\u001b[38;5;21;01m.\u001b[39;00m\u001b[38;5;21;01mChem\u001b[39;00m\u001b[38;5;21;01m.\u001b[39;00m\u001b[38;5;21;01mrdmolops\u001b[39;00m \u001b[38;5;28;01mimport\u001b[39;00m RemoveHs  \u001b[38;5;66;03m# type: ignore[import]\u001b[39;00m\n\u001b[0;32m-> 6224\u001b[0m rdmol \u001b[38;5;241m=\u001b[39m \u001b[38;5;28;43mself\u001b[39;49m\u001b[38;5;241;43m.\u001b[39;49m\u001b[43mto_rdkit\u001b[49m\u001b[43m(\u001b[49m\u001b[43m)\u001b[49m\n\u001b[1;32m   6226\u001b[0m \u001b[38;5;28;01mif\u001b[39;00m \u001b[38;5;129;01mnot\u001b[39;00m show_all_hydrogens:\n\u001b[1;32m   6227\u001b[0m     \u001b[38;5;66;03m# updateExplicitCount: Keep a record of the hydrogens we remove.\u001b[39;00m\n\u001b[1;32m   6228\u001b[0m     \u001b[38;5;66;03m# This is used in visualization to distinguish eg radicals from normal species\u001b[39;00m\n\u001b[1;32m   6229\u001b[0m     rdmol \u001b[38;5;241m=\u001b[39m RemoveHs(rdmol, updateExplicitCount\u001b[38;5;241m=\u001b[39m\u001b[38;5;28;01mTrue\u001b[39;00m)\n",
      "File \u001b[0;32m~/miniconda3/envs/bondwalk/lib/python3.9/site-packages/openff/toolkit/utils/base_wrapper.py:51\u001b[0m, in \u001b[0;36mToolkitWrapper.requires_toolkit.<locals>.decorator.<locals>.wrapped_function\u001b[0;34m(*args, **kwargs)\u001b[0m\n\u001b[1;32m     47\u001b[0m     msg \u001b[38;5;241m=\u001b[39m \u001b[38;5;124m\"\u001b[39m\u001b[38;5;124mThis function requires the \u001b[39m\u001b[38;5;132;01m{}\u001b[39;00m\u001b[38;5;124m toolkit\u001b[39m\u001b[38;5;124m\"\u001b[39m\u001b[38;5;241m.\u001b[39mformat(\n\u001b[1;32m     48\u001b[0m         \u001b[38;5;28mcls\u001b[39m\u001b[38;5;241m.\u001b[39m_toolkit_name\n\u001b[1;32m     49\u001b[0m     )\n\u001b[1;32m     50\u001b[0m     \u001b[38;5;28;01mraise\u001b[39;00m ToolkitUnavailableException(msg)\n\u001b[0;32m---> 51\u001b[0m value \u001b[38;5;241m=\u001b[39m \u001b[43mfunc\u001b[49m\u001b[43m(\u001b[49m\u001b[38;5;241;43m*\u001b[39;49m\u001b[43margs\u001b[49m\u001b[43m,\u001b[49m\u001b[43m \u001b[49m\u001b[38;5;241;43m*\u001b[39;49m\u001b[38;5;241;43m*\u001b[39;49m\u001b[43mkwargs\u001b[49m\u001b[43m)\u001b[49m\n\u001b[1;32m     52\u001b[0m \u001b[38;5;28;01mreturn\u001b[39;00m value\n",
      "File \u001b[0;32m~/miniconda3/envs/bondwalk/lib/python3.9/site-packages/openff/toolkit/topology/molecule.py:5037\u001b[0m, in \u001b[0;36mFrozenMolecule.to_rdkit\u001b[0;34m(self, aromaticity_model)\u001b[0m\n\u001b[1;32m   5010\u001b[0m \u001b[38;5;250m\u001b[39m\u001b[38;5;124;03m\"\"\"\u001b[39;00m\n\u001b[1;32m   5011\u001b[0m \u001b[38;5;124;03mCreate an RDKit molecule\u001b[39;00m\n\u001b[1;32m   5012\u001b[0m \n\u001b[0;32m   (...)\u001b[0m\n\u001b[1;32m   5034\u001b[0m \n\u001b[1;32m   5035\u001b[0m \u001b[38;5;124;03m\"\"\"\u001b[39;00m\n\u001b[1;32m   5036\u001b[0m toolkit \u001b[38;5;241m=\u001b[39m RDKitToolkitWrapper()\n\u001b[0;32m-> 5037\u001b[0m \u001b[38;5;28;01mreturn\u001b[39;00m \u001b[43mtoolkit\u001b[49m\u001b[38;5;241;43m.\u001b[39;49m\u001b[43mto_rdkit\u001b[49m\u001b[43m(\u001b[49m\u001b[38;5;28;43mself\u001b[39;49m\u001b[43m,\u001b[49m\u001b[43m \u001b[49m\u001b[43maromaticity_model\u001b[49m\u001b[38;5;241;43m=\u001b[39;49m\u001b[43maromaticity_model\u001b[49m\u001b[43m)\u001b[49m\n",
      "File \u001b[0;32m~/miniconda3/envs/bondwalk/lib/python3.9/site-packages/openff/toolkit/utils/rdkit_wrapper.py:1746\u001b[0m, in \u001b[0;36mRDKitToolkitWrapper.to_rdkit\u001b[0;34m(cls, molecule, aromaticity_model)\u001b[0m\n\u001b[1;32m   1743\u001b[0m         rdbond\u001b[38;5;241m.\u001b[39mSetBondType(_bondtypes[bond\u001b[38;5;241m.\u001b[39mbond_order])\n\u001b[1;32m   1744\u001b[0m         rdbond\u001b[38;5;241m.\u001b[39mSetIsAromatic(\u001b[38;5;28;01mFalse\u001b[39;00m)\n\u001b[0;32m-> 1746\u001b[0m \u001b[43mChem\u001b[49m\u001b[38;5;241;43m.\u001b[39;49m\u001b[43mSanitizeMol\u001b[49m\u001b[43m(\u001b[49m\n\u001b[1;32m   1747\u001b[0m \u001b[43m    \u001b[49m\u001b[43mrdmol\u001b[49m\u001b[43m,\u001b[49m\n\u001b[1;32m   1748\u001b[0m \u001b[43m    \u001b[49m\u001b[43mChem\u001b[49m\u001b[38;5;241;43m.\u001b[39;49m\u001b[43mSANITIZE_ALL\u001b[49m\u001b[43m \u001b[49m\u001b[38;5;241;43m^\u001b[39;49m\u001b[43m \u001b[49m\u001b[43mChem\u001b[49m\u001b[38;5;241;43m.\u001b[39;49m\u001b[43mSANITIZE_ADJUSTHS\u001b[49m\u001b[43m \u001b[49m\u001b[38;5;241;43m^\u001b[39;49m\u001b[43m \u001b[49m\u001b[43mChem\u001b[49m\u001b[38;5;241;43m.\u001b[39;49m\u001b[43mSANITIZE_SETAROMATICITY\u001b[49m\u001b[43m,\u001b[49m\n\u001b[1;32m   1749\u001b[0m \u001b[43m\u001b[49m\u001b[43m)\u001b[49m\n\u001b[1;32m   1751\u001b[0m \u001b[38;5;66;03m# Fix for aromaticity being lost\u001b[39;00m\n\u001b[1;32m   1752\u001b[0m \u001b[38;5;28;01mif\u001b[39;00m aromaticity_model \u001b[38;5;241m==\u001b[39m \u001b[38;5;124m\"\u001b[39m\u001b[38;5;124mOEAroModel_MDL\u001b[39m\u001b[38;5;124m\"\u001b[39m:\n",
      "\u001b[0;31mAtomValenceException\u001b[0m: Explicit valence for atom # 0 C, 5, is greater than permitted"
     ]
    }
   ],
   "source": [
    "compound.visualize()"
   ]
  },
  {
   "cell_type": "code",
   "execution_count": null,
   "id": "ad04ba20",
   "metadata": {},
   "outputs": [],
   "source": [
    "#bond_list = [b for b in compound.bonds if 1 not in [b.atom1.atomic_number, b.atom2.atomic_number]]\n",
    "#atom_list = [a for a in compound.atoms if 1 not in [a.atomic_number]]\n",
    "#def add_bonds(atom1_index, atom2_index, mol):\n",
    "#    change_bonds1 = [b for b in mol.bonds if atom1_index in [b.atom1_index,b.atom2_index]]\n",
    "#    change_bonds2 = [b for b in change_bonds1 if atom2_index in [b.atom1_index,b.atom2_index]]\n",
    "#    change_bond = change_bonds2[0]\n",
    "#    original_order = change_bond.bond_order\n",
    "#    change_bond.bond_order = original_order + 1\n",
    "#    print(change_bond.bond_order)\n",
    "#add_bonds(1,2,compound)\n",
    "#add_bonds(4,5,compound)\n",
    "#add_bonds(6,7,compound)\n",
    "#add_bonds(0,8,compound)"
   ]
  },
  {
   "cell_type": "code",
   "execution_count": null,
   "id": "516653b3",
   "metadata": {},
   "outputs": [],
   "source": []
  }
 ],
 "metadata": {
  "kernelspec": {
   "display_name": "Python 3 (ipykernel)",
   "language": "python",
   "name": "python3"
  },
  "language_info": {
   "codemirror_mode": {
    "name": "ipython",
    "version": 3
   },
   "file_extension": ".py",
   "mimetype": "text/x-python",
   "name": "python",
   "nbconvert_exporter": "python",
   "pygments_lexer": "ipython3",
   "version": "3.9.15"
  }
 },
 "nbformat": 4,
 "nbformat_minor": 5
}
