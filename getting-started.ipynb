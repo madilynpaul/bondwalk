{
 "cells": [
  {
   "cell_type": "code",
   "execution_count": 1,
   "id": "1f9b7b2f",
   "metadata": {},
   "outputs": [
    {
     "name": "stderr",
     "output_type": "stream",
     "text": [
      "Warning: importing 'simtk.openmm' is deprecated.  Import 'openmm' instead.\n",
      "Warning: Unable to load toolkit 'OpenEye Toolkit'. The Open Force Field Toolkit does not require the OpenEye Toolkits, and can use RDKit/AmberTools instead. However, if you have a valid license for the OpenEye Toolkits, consider installing them for faster performance and additional file format support: https://docs.eyesopen.com/toolkits/python/quickstart-python/linuxosx.html OpenEye offers free Toolkit licenses for academics: https://www.eyesopen.com/academic-licensing\n"
     ]
    }
   ],
   "source": [
    "import mbuild as mb\n",
    "from openff.toolkit.topology import Molecule\n",
    "import random\n",
    "import warnings\n",
    "warnings.filterwarnings(\"ignore\")"
   ]
  },
  {
   "cell_type": "code",
   "execution_count": null,
   "id": "c84e1c96",
   "metadata": {},
   "outputs": [],
   "source": [
    "octet = {\n",
    "    6 : 4,\n",
    "    7 : 3,\n",
    "    1 : 1,\n",
    "    16 : 2\n",
    "}"
   ]
  },
  {
   "cell_type": "code",
   "execution_count": 2,
   "id": "744df84a",
   "metadata": {},
   "outputs": [],
   "source": [
    "comp = mb.load(\"[CH]1C2=NSN=C2C=N[CH]1\", smiles=True)\n",
    "comp.save(\"comp.sdf\", overwrite=True)"
   ]
  },
  {
   "cell_type": "code",
   "execution_count": 3,
   "id": "7f1bf1b7",
   "metadata": {},
   "outputs": [
    {
     "data": {
      "image/svg+xml": [
       "<svg xmlns=\"http://www.w3.org/2000/svg\" xmlns:rdkit=\"http://www.rdkit.org/xml\" xmlns:xlink=\"http://www.w3.org/1999/xlink\" version=\"1.1\" baseProfile=\"full\" xml:space=\"preserve\" width=\"500px\" height=\"300px\" viewBox=\"0 0 500 300\">\n",
       "<!-- END OF HEADER -->\n",
       "<rect style=\"opacity:1.0;fill:#FFFFFF;stroke:none\" width=\"500.0\" height=\"300.0\" x=\"0.0\" y=\"0.0\"> </rect>\n",
       "<path class=\"bond-0 atom-1 atom-0\" d=\"M 283.6,180.8 L 230.2,211.6\" style=\"fill:none;fill-rule:evenodd;stroke:#000000;stroke-width:2.0px;stroke-linecap:butt;stroke-linejoin:miter;stroke-opacity:1\"/>\n",
       "<path class=\"bond-1 atom-2 atom-1\" d=\"M 330.2,195.9 L 306.9,188.3\" style=\"fill:none;fill-rule:evenodd;stroke:#0000FF;stroke-width:2.0px;stroke-linecap:butt;stroke-linejoin:miter;stroke-opacity:1\"/>\n",
       "<path class=\"bond-1 atom-2 atom-1\" d=\"M 306.9,188.3 L 283.6,180.8\" style=\"fill:none;fill-rule:evenodd;stroke:#000000;stroke-width:2.0px;stroke-linecap:butt;stroke-linejoin:miter;stroke-opacity:1\"/>\n",
       "<path class=\"bond-2 atom-3 atom-2\" d=\"M 368.0,164.3 L 360.6,174.5\" style=\"fill:none;fill-rule:evenodd;stroke:#CCCC00;stroke-width:2.0px;stroke-linecap:butt;stroke-linejoin:miter;stroke-opacity:1\"/>\n",
       "<path class=\"bond-2 atom-3 atom-2\" d=\"M 360.6,174.5 L 353.2,184.7\" style=\"fill:none;fill-rule:evenodd;stroke:#0000FF;stroke-width:2.0px;stroke-linecap:butt;stroke-linejoin:miter;stroke-opacity:1\"/>\n",
       "<path class=\"bond-3 atom-4 atom-3\" d=\"M 353.1,115.2 L 360.5,125.4\" style=\"fill:none;fill-rule:evenodd;stroke:#0000FF;stroke-width:2.0px;stroke-linecap:butt;stroke-linejoin:miter;stroke-opacity:1\"/>\n",
       "<path class=\"bond-3 atom-4 atom-3\" d=\"M 360.5,125.4 L 368.0,135.6\" style=\"fill:none;fill-rule:evenodd;stroke:#CCCC00;stroke-width:2.0px;stroke-linecap:butt;stroke-linejoin:miter;stroke-opacity:1\"/>\n",
       "<path class=\"bond-4 atom-5 atom-1\" d=\"M 283.5,119.1 L 283.6,180.8\" style=\"fill:none;fill-rule:evenodd;stroke:#000000;stroke-width:2.0px;stroke-linecap:butt;stroke-linejoin:miter;stroke-opacity:1\"/>\n",
       "<path class=\"bond-5 atom-5 atom-4\" d=\"M 283.5,119.1 L 306.8,111.5\" style=\"fill:none;fill-rule:evenodd;stroke:#000000;stroke-width:2.0px;stroke-linecap:butt;stroke-linejoin:miter;stroke-opacity:1\"/>\n",
       "<path class=\"bond-5 atom-5 atom-4\" d=\"M 306.8,111.5 L 330.2,103.9\" style=\"fill:none;fill-rule:evenodd;stroke:#0000FF;stroke-width:2.0px;stroke-linecap:butt;stroke-linejoin:miter;stroke-opacity:1\"/>\n",
       "<path class=\"bond-6 atom-6 atom-5\" d=\"M 230.1,88.4 L 283.5,119.1\" style=\"fill:none;fill-rule:evenodd;stroke:#000000;stroke-width:2.0px;stroke-linecap:butt;stroke-linejoin:miter;stroke-opacity:1\"/>\n",
       "<path class=\"bond-7 atom-7 atom-6\" d=\"M 188.7,112.3 L 209.4,100.3\" style=\"fill:none;fill-rule:evenodd;stroke:#0000FF;stroke-width:2.0px;stroke-linecap:butt;stroke-linejoin:miter;stroke-opacity:1\"/>\n",
       "<path class=\"bond-7 atom-7 atom-6\" d=\"M 209.4,100.3 L 230.1,88.4\" style=\"fill:none;fill-rule:evenodd;stroke:#000000;stroke-width:2.0px;stroke-linecap:butt;stroke-linejoin:miter;stroke-opacity:1\"/>\n",
       "<path class=\"bond-8 atom-8 atom-0\" d=\"M 176.8,180.9 L 230.2,211.6\" style=\"fill:none;fill-rule:evenodd;stroke:#000000;stroke-width:2.0px;stroke-linecap:butt;stroke-linejoin:miter;stroke-opacity:1\"/>\n",
       "<path class=\"bond-9 atom-8 atom-7\" d=\"M 176.8,180.9 L 176.8,157.6\" style=\"fill:none;fill-rule:evenodd;stroke:#000000;stroke-width:2.0px;stroke-linecap:butt;stroke-linejoin:miter;stroke-opacity:1\"/>\n",
       "<path class=\"bond-9 atom-8 atom-7\" d=\"M 176.8,157.6 L 176.8,134.4\" style=\"fill:none;fill-rule:evenodd;stroke:#0000FF;stroke-width:2.0px;stroke-linecap:butt;stroke-linejoin:miter;stroke-opacity:1\"/>\n",
       "<path class=\"bond-10 atom-9 atom-0\" d=\"M 230.3,258.1 L 230.2,211.6\" style=\"fill:none;fill-rule:evenodd;stroke:#000000;stroke-width:2.0px;stroke-linecap:butt;stroke-linejoin:miter;stroke-opacity:1\"/>\n",
       "<path class=\"bond-11 atom-10 atom-6\" d=\"M 230.1,41.9 L 230.1,88.4\" style=\"fill:none;fill-rule:evenodd;stroke:#000000;stroke-width:2.0px;stroke-linecap:butt;stroke-linejoin:miter;stroke-opacity:1\"/>\n",
       "<path class=\"bond-12 atom-11 atom-8\" d=\"M 135.7,204.6 L 176.8,180.9\" style=\"fill:none;fill-rule:evenodd;stroke:#000000;stroke-width:2.0px;stroke-linecap:butt;stroke-linejoin:miter;stroke-opacity:1\"/>\n",
       "<path class=\"atom-2\" d=\"M 336.4 186.7 L 345.0 200.6 Q 345.8 201.9, 347.2 204.4 Q 348.6 206.9, 348.6 207.0 L 348.6 186.7 L 352.1 186.7 L 352.1 212.9 L 348.5 212.9 L 339.3 197.7 Q 338.3 195.9, 337.1 193.9 Q 336.0 191.9, 335.7 191.2 L 335.7 212.9 L 332.3 212.9 L 332.3 186.7 L 336.4 186.7 \" fill=\"#0000FF\"/>\n",
       "<path class=\"atom-3\" d=\"M 371.0 158.9 Q 371.3 159.0, 372.5 159.5 Q 373.7 160.0, 375.1 160.4 Q 376.4 160.7, 377.8 160.7 Q 380.2 160.7, 381.7 159.5 Q 383.1 158.2, 383.1 156.1 Q 383.1 154.7, 382.4 153.8 Q 381.7 152.9, 380.6 152.4 Q 379.5 152.0, 377.6 151.4 Q 375.3 150.7, 373.9 150.0 Q 372.5 149.4, 371.5 148.0 Q 370.5 146.6, 370.5 144.2 Q 370.5 140.9, 372.8 138.9 Q 375.0 136.8, 379.5 136.8 Q 382.5 136.8, 385.9 138.3 L 385.1 141.1 Q 381.9 139.8, 379.6 139.8 Q 377.0 139.8, 375.6 140.9 Q 374.2 141.9, 374.2 143.8 Q 374.2 145.2, 374.9 146.0 Q 375.7 146.9, 376.7 147.3 Q 377.8 147.8, 379.6 148.4 Q 381.9 149.1, 383.3 149.9 Q 384.7 150.6, 385.7 152.1 Q 386.8 153.6, 386.8 156.1 Q 386.8 159.8, 384.3 161.7 Q 381.9 163.6, 377.9 163.6 Q 375.6 163.6, 373.8 163.1 Q 372.1 162.6, 370.0 161.8 L 371.0 158.9 \" fill=\"#CCCC00\"/>\n",
       "<path class=\"atom-4\" d=\"M 336.3 87.0 L 344.9 100.8 Q 345.8 102.2, 347.1 104.7 Q 348.5 107.2, 348.6 107.3 L 348.6 87.0 L 352.1 87.0 L 352.1 113.1 L 348.5 113.1 L 339.3 98.0 Q 338.2 96.2, 337.0 94.2 Q 335.9 92.1, 335.6 91.5 L 335.6 113.1 L 332.2 113.1 L 332.2 87.0 L 336.3 87.0 \" fill=\"#0000FF\"/>\n",
       "<path class=\"atom-7\" d=\"M 171.0 106.1 L 179.6 120.0 Q 180.4 121.4, 181.8 123.9 Q 183.1 126.3, 183.2 126.5 L 183.2 106.1 L 186.7 106.1 L 186.7 132.3 L 183.1 132.3 L 173.9 117.2 Q 172.8 115.4, 171.7 113.4 Q 170.6 111.3, 170.2 110.7 L 170.2 132.3 L 166.8 132.3 L 166.8 106.1 L 171.0 106.1 \" fill=\"#0000FF\"/>\n",
       "<path class=\"atom-9\" d=\"M 220.0 260.2 L 223.6 260.2 L 223.6 271.3 L 237.0 271.3 L 237.0 260.2 L 240.5 260.2 L 240.5 286.4 L 237.0 286.4 L 237.0 274.3 L 223.6 274.3 L 223.6 286.4 L 220.0 286.4 L 220.0 260.2 \" fill=\"#000000\"/>\n",
       "<path class=\"atom-10\" d=\"M 219.8 13.6 L 223.4 13.6 L 223.4 24.8 L 236.8 24.8 L 236.8 13.6 L 240.3 13.6 L 240.3 39.8 L 236.8 39.8 L 236.8 27.7 L 223.4 27.7 L 223.4 39.8 L 219.8 39.8 L 219.8 13.6 \" fill=\"#000000\"/>\n",
       "<path class=\"atom-11\" d=\"M 113.2 198.6 L 116.8 198.6 L 116.8 209.8 L 130.2 209.8 L 130.2 198.6 L 133.7 198.6 L 133.7 224.8 L 130.2 224.8 L 130.2 212.7 L 116.8 212.7 L 116.8 224.8 L 113.2 224.8 L 113.2 198.6 \" fill=\"#000000\"/>\n",
       "<path class=\"atom-0\" d=\"M 232.1,203.3 L 232.1,203.5 L 232.0,203.6 L 232.0,203.8 L 232.0,203.9 L 231.9,204.1 L 231.8,204.2 L 231.7,204.4 L 231.6,204.5 L 231.5,204.6 L 231.4,204.7 L 231.3,204.8 L 231.2,204.9 L 231.0,205.0 L 230.9,205.0 L 230.7,205.1 L 230.6,205.1 L 230.4,205.2 L 230.3,205.2 L 230.1,205.2 L 229.9,205.1 L 229.8,205.1 L 229.6,205.1 L 229.5,205.0 L 229.3,204.9 L 229.2,204.9 L 229.1,204.8 L 229.0,204.7 L 228.8,204.6 L 228.7,204.4 L 228.6,204.3 L 228.6,204.2 L 228.5,204.0 L 228.4,203.9 L 228.4,203.7 L 228.4,203.6 L 228.4,203.4 L 228.4,203.2 L 228.4,203.1 L 228.4,202.9 L 228.4,202.8 L 228.5,202.6 L 228.6,202.5 L 228.6,202.3 L 228.7,202.2 L 228.8,202.1 L 229.0,202.0 L 229.1,201.9 L 229.2,201.8 L 229.3,201.7 L 229.5,201.6 L 229.6,201.6 L 229.8,201.5 L 229.9,201.5 L 230.1,201.5 L 230.3,201.5 L 230.4,201.5 L 230.6,201.5 L 230.7,201.5 L 230.9,201.6 L 231.0,201.7 L 231.2,201.7 L 231.3,201.8 L 231.4,201.9 L 231.5,202.0 L 231.6,202.1 L 231.7,202.3 L 231.8,202.4 L 231.9,202.5 L 232.0,202.7 L 232.0,202.8 L 232.0,203.0 L 232.1,203.2 L 232.1,203.3 L 230.2,203.3 Z\" style=\"fill:#000000;fill-rule:evenodd;fill-opacity:1;stroke:#000000;stroke-width:0.0px;stroke-linecap:butt;stroke-linejoin:miter;stroke-opacity:1;\"/>\n",
       "<path class=\"atom-1\" d=\"M 274.3,180.8 L 274.3,180.9 L 274.3,181.1 L 274.3,181.3 L 274.2,181.4 L 274.2,181.6 L 274.1,181.7 L 274.0,181.8 L 273.9,182.0 L 273.8,182.1 L 273.7,182.2 L 273.6,182.3 L 273.4,182.4 L 273.3,182.4 L 273.1,182.5 L 273.0,182.6 L 272.8,182.6 L 272.7,182.6 L 272.5,182.6 L 272.4,182.6 L 272.2,182.6 L 272.0,182.6 L 271.9,182.5 L 271.7,182.5 L 271.6,182.4 L 271.5,182.3 L 271.3,182.2 L 271.2,182.1 L 271.1,182.0 L 271.0,181.9 L 270.9,181.8 L 270.8,181.6 L 270.8,181.5 L 270.7,181.3 L 270.7,181.2 L 270.6,181.0 L 270.6,180.9 L 270.6,180.7 L 270.6,180.5 L 270.7,180.4 L 270.7,180.2 L 270.8,180.1 L 270.8,179.9 L 270.9,179.8 L 271.0,179.7 L 271.1,179.5 L 271.2,179.4 L 271.3,179.3 L 271.5,179.2 L 271.6,179.2 L 271.7,179.1 L 271.9,179.0 L 272.0,179.0 L 272.2,179.0 L 272.4,178.9 L 272.5,178.9 L 272.7,178.9 L 272.8,179.0 L 273.0,179.0 L 273.1,179.1 L 273.3,179.1 L 273.4,179.2 L 273.6,179.3 L 273.7,179.4 L 273.8,179.5 L 273.9,179.6 L 274.0,179.7 L 274.1,179.9 L 274.2,180.0 L 274.2,180.2 L 274.3,180.3 L 274.3,180.5 L 274.3,180.6 L 274.3,180.8 L 272.5,180.8 Z\" style=\"fill:#000000;fill-rule:evenodd;fill-opacity:1;stroke:#000000;stroke-width:0.0px;stroke-linecap:butt;stroke-linejoin:miter;stroke-opacity:1;\"/>\n",
       "<path class=\"atom-2\" d=\"M 359.5,199.8 L 359.5,199.9 L 359.5,200.1 L 359.5,200.2 L 359.4,200.4 L 359.4,200.5 L 359.3,200.7 L 359.2,200.8 L 359.1,201.0 L 359.0,201.1 L 358.9,201.2 L 358.8,201.3 L 358.6,201.4 L 358.5,201.4 L 358.3,201.5 L 358.2,201.6 L 358.0,201.6 L 357.9,201.6 L 357.7,201.6 L 357.6,201.6 L 357.4,201.6 L 357.2,201.6 L 357.1,201.5 L 356.9,201.5 L 356.8,201.4 L 356.7,201.3 L 356.5,201.2 L 356.4,201.1 L 356.3,201.0 L 356.2,200.9 L 356.1,200.8 L 356.0,200.6 L 356.0,200.5 L 355.9,200.3 L 355.9,200.2 L 355.8,200.0 L 355.8,199.9 L 355.8,199.7 L 355.8,199.5 L 355.9,199.4 L 355.9,199.2 L 356.0,199.1 L 356.0,198.9 L 356.1,198.8 L 356.2,198.7 L 356.3,198.5 L 356.4,198.4 L 356.5,198.3 L 356.7,198.2 L 356.8,198.2 L 356.9,198.1 L 357.1,198.0 L 357.2,198.0 L 357.4,197.9 L 357.6,197.9 L 357.7,197.9 L 357.9,197.9 L 358.0,198.0 L 358.2,198.0 L 358.3,198.1 L 358.5,198.1 L 358.6,198.2 L 358.8,198.3 L 358.9,198.4 L 359.0,198.5 L 359.1,198.6 L 359.2,198.7 L 359.3,198.9 L 359.4,199.0 L 359.4,199.2 L 359.5,199.3 L 359.5,199.5 L 359.5,199.6 L 359.5,199.8 L 357.7,199.8 Z\" style=\"fill:#000000;fill-rule:evenodd;fill-opacity:1;stroke:#000000;stroke-width:0.0px;stroke-linecap:butt;stroke-linejoin:miter;stroke-opacity:1;\"/>\n",
       "<path class=\"atom-4\" d=\"M 359.4,100.1 L 359.4,100.2 L 359.4,100.4 L 359.4,100.5 L 359.3,100.7 L 359.3,100.8 L 359.2,101.0 L 359.1,101.1 L 359.0,101.2 L 358.9,101.3 L 358.8,101.5 L 358.7,101.6 L 358.5,101.6 L 358.4,101.7 L 358.3,101.8 L 358.1,101.8 L 358.0,101.9 L 357.8,101.9 L 357.6,101.9 L 357.5,101.9 L 357.3,101.9 L 357.2,101.8 L 357.0,101.8 L 356.9,101.7 L 356.7,101.7 L 356.6,101.6 L 356.5,101.5 L 356.3,101.4 L 356.2,101.3 L 356.1,101.2 L 356.0,101.0 L 356.0,100.9 L 355.9,100.7 L 355.8,100.6 L 355.8,100.4 L 355.8,100.3 L 355.8,100.1 L 355.8,100.0 L 355.8,99.8 L 355.8,99.7 L 355.8,99.5 L 355.9,99.4 L 356.0,99.2 L 356.0,99.1 L 356.1,98.9 L 356.2,98.8 L 356.3,98.7 L 356.5,98.6 L 356.6,98.5 L 356.7,98.4 L 356.9,98.4 L 357.0,98.3 L 357.2,98.3 L 357.3,98.2 L 357.5,98.2 L 357.6,98.2 L 357.8,98.2 L 358.0,98.2 L 358.1,98.3 L 358.3,98.3 L 358.4,98.4 L 358.5,98.5 L 358.7,98.5 L 358.8,98.6 L 358.9,98.8 L 359.0,98.9 L 359.1,99.0 L 359.2,99.1 L 359.3,99.3 L 359.3,99.4 L 359.4,99.6 L 359.4,99.7 L 359.4,99.9 L 359.4,100.1 L 357.6,100.1 Z\" style=\"fill:#000000;fill-rule:evenodd;fill-opacity:1;stroke:#000000;stroke-width:0.0px;stroke-linecap:butt;stroke-linejoin:miter;stroke-opacity:1;\"/>\n",
       "<path class=\"atom-5\" d=\"M 274.3,119.1 L 274.3,119.3 L 274.2,119.5 L 274.2,119.6 L 274.2,119.8 L 274.1,119.9 L 274.0,120.1 L 273.9,120.2 L 273.9,120.3 L 273.7,120.4 L 273.6,120.5 L 273.5,120.6 L 273.4,120.7 L 273.2,120.8 L 273.1,120.9 L 272.9,120.9 L 272.8,121.0 L 272.6,121.0 L 272.5,121.0 L 272.3,121.0 L 272.1,121.0 L 272.0,120.9 L 271.8,120.9 L 271.7,120.8 L 271.5,120.8 L 271.4,120.7 L 271.3,120.6 L 271.2,120.5 L 271.0,120.4 L 270.9,120.3 L 270.9,120.1 L 270.8,120.0 L 270.7,119.8 L 270.7,119.7 L 270.6,119.5 L 270.6,119.4 L 270.6,119.2 L 270.6,119.1 L 270.6,118.9 L 270.6,118.8 L 270.7,118.6 L 270.7,118.4 L 270.8,118.3 L 270.9,118.2 L 270.9,118.0 L 271.0,117.9 L 271.2,117.8 L 271.3,117.7 L 271.4,117.6 L 271.5,117.5 L 271.7,117.4 L 271.8,117.4 L 272.0,117.3 L 272.1,117.3 L 272.3,117.3 L 272.5,117.3 L 272.6,117.3 L 272.8,117.3 L 272.9,117.4 L 273.1,117.4 L 273.2,117.5 L 273.4,117.6 L 273.5,117.6 L 273.6,117.7 L 273.7,117.9 L 273.9,118.0 L 273.9,118.1 L 274.0,118.2 L 274.1,118.4 L 274.2,118.5 L 274.2,118.7 L 274.2,118.8 L 274.3,119.0 L 274.3,119.1 L 272.4,119.1 Z\" style=\"fill:#000000;fill-rule:evenodd;fill-opacity:1;stroke:#000000;stroke-width:0.0px;stroke-linecap:butt;stroke-linejoin:miter;stroke-opacity:1;\"/>\n",
       "<path class=\"atom-6\" d=\"M 232.0,96.7 L 232.0,96.8 L 231.9,97.0 L 231.9,97.2 L 231.9,97.3 L 231.8,97.5 L 231.7,97.6 L 231.6,97.7 L 231.5,97.9 L 231.4,98.0 L 231.3,98.1 L 231.2,98.2 L 231.1,98.3 L 230.9,98.3 L 230.8,98.4 L 230.6,98.5 L 230.5,98.5 L 230.3,98.5 L 230.2,98.5 L 230.0,98.5 L 229.8,98.5 L 229.7,98.5 L 229.5,98.4 L 229.4,98.4 L 229.2,98.3 L 229.1,98.2 L 229.0,98.1 L 228.9,98.0 L 228.7,97.9 L 228.6,97.8 L 228.5,97.7 L 228.5,97.5 L 228.4,97.4 L 228.4,97.2 L 228.3,97.1 L 228.3,96.9 L 228.3,96.8 L 228.3,96.6 L 228.3,96.4 L 228.3,96.3 L 228.4,96.1 L 228.4,96.0 L 228.5,95.8 L 228.5,95.7 L 228.6,95.6 L 228.7,95.4 L 228.9,95.3 L 229.0,95.2 L 229.1,95.1 L 229.2,95.1 L 229.4,95.0 L 229.5,94.9 L 229.7,94.9 L 229.8,94.9 L 230.0,94.8 L 230.2,94.8 L 230.3,94.8 L 230.5,94.9 L 230.6,94.9 L 230.8,95.0 L 230.9,95.0 L 231.1,95.1 L 231.2,95.2 L 231.3,95.3 L 231.4,95.4 L 231.5,95.5 L 231.6,95.6 L 231.7,95.8 L 231.8,95.9 L 231.9,96.1 L 231.9,96.2 L 231.9,96.4 L 232.0,96.5 L 232.0,96.7 L 230.1,96.7 Z\" style=\"fill:#000000;fill-rule:evenodd;fill-opacity:1;stroke:#000000;stroke-width:0.0px;stroke-linecap:butt;stroke-linejoin:miter;stroke-opacity:1;\"/>\n",
       "<path class=\"atom-7\" d=\"M 163.1,119.2 L 163.1,119.4 L 163.1,119.5 L 163.1,119.7 L 163.0,119.9 L 163.0,120.0 L 162.9,120.1 L 162.8,120.3 L 162.7,120.4 L 162.6,120.5 L 162.5,120.6 L 162.4,120.7 L 162.2,120.8 L 162.1,120.9 L 161.9,121.0 L 161.8,121.0 L 161.6,121.0 L 161.5,121.1 L 161.3,121.1 L 161.2,121.1 L 161.0,121.1 L 160.9,121.0 L 160.7,121.0 L 160.6,120.9 L 160.4,120.9 L 160.3,120.8 L 160.1,120.7 L 160.0,120.6 L 159.9,120.5 L 159.8,120.3 L 159.7,120.2 L 159.6,120.1 L 159.6,119.9 L 159.5,119.8 L 159.5,119.6 L 159.5,119.5 L 159.4,119.3 L 159.4,119.2 L 159.5,119.0 L 159.5,118.8 L 159.5,118.7 L 159.6,118.5 L 159.6,118.4 L 159.7,118.2 L 159.8,118.1 L 159.9,118.0 L 160.0,117.9 L 160.1,117.8 L 160.3,117.7 L 160.4,117.6 L 160.6,117.5 L 160.7,117.5 L 160.9,117.4 L 161.0,117.4 L 161.2,117.4 L 161.3,117.4 L 161.5,117.4 L 161.6,117.4 L 161.8,117.5 L 161.9,117.5 L 162.1,117.6 L 162.2,117.6 L 162.4,117.7 L 162.5,117.8 L 162.6,117.9 L 162.7,118.1 L 162.8,118.2 L 162.9,118.3 L 163.0,118.5 L 163.0,118.6 L 163.1,118.8 L 163.1,118.9 L 163.1,119.1 L 163.1,119.2 L 161.3,119.2 Z\" style=\"fill:#000000;fill-rule:evenodd;fill-opacity:1;stroke:#000000;stroke-width:0.0px;stroke-linecap:butt;stroke-linejoin:miter;stroke-opacity:1;\"/>\n",
       "<path class=\"atom-8\" d=\"M 178.7,189.2 L 178.7,189.3 L 178.6,189.5 L 178.6,189.7 L 178.6,189.8 L 178.5,190.0 L 178.4,190.1 L 178.3,190.2 L 178.2,190.4 L 178.1,190.5 L 178.0,190.6 L 177.9,190.7 L 177.8,190.8 L 177.6,190.9 L 177.5,190.9 L 177.3,191.0 L 177.2,191.0 L 177.0,191.0 L 176.9,191.0 L 176.7,191.0 L 176.5,191.0 L 176.4,191.0 L 176.2,190.9 L 176.1,190.9 L 175.9,190.8 L 175.8,190.7 L 175.7,190.6 L 175.5,190.5 L 175.4,190.4 L 175.3,190.3 L 175.2,190.2 L 175.2,190.0 L 175.1,189.9 L 175.0,189.7 L 175.0,189.6 L 175.0,189.4 L 175.0,189.3 L 175.0,189.1 L 175.0,189.0 L 175.0,188.8 L 175.0,188.6 L 175.1,188.5 L 175.2,188.3 L 175.2,188.2 L 175.3,188.1 L 175.4,188.0 L 175.5,187.8 L 175.7,187.7 L 175.8,187.6 L 175.9,187.6 L 176.1,187.5 L 176.2,187.4 L 176.4,187.4 L 176.5,187.4 L 176.7,187.3 L 176.9,187.3 L 177.0,187.3 L 177.2,187.4 L 177.3,187.4 L 177.5,187.5 L 177.6,187.5 L 177.8,187.6 L 177.9,187.7 L 178.0,187.8 L 178.1,187.9 L 178.2,188.0 L 178.3,188.1 L 178.4,188.3 L 178.5,188.4 L 178.6,188.6 L 178.6,188.7 L 178.6,188.9 L 178.7,189.0 L 178.7,189.2 L 176.8,189.2 Z\" style=\"fill:#000000;fill-rule:evenodd;fill-opacity:1;stroke:#000000;stroke-width:0.0px;stroke-linecap:butt;stroke-linejoin:miter;stroke-opacity:1;\"/>\n",
       "</svg>"
      ],
      "text/plain": [
       "<IPython.core.display.SVG object>"
      ]
     },
     "execution_count": 3,
     "metadata": {},
     "output_type": "execute_result"
    }
   ],
   "source": [
    "compound = Molecule.from_file(\"comp.sdf\",file_format = \"sdf\")\n",
    "compound.visualize()"
   ]
  },
  {
   "cell_type": "code",
   "execution_count": 4,
   "id": "a9b28ef7",
   "metadata": {},
   "outputs": [
    {
     "name": "stdout",
     "output_type": "stream",
     "text": [
      "0 6\n",
      "my order 3\n",
      "new order 3\n",
      "1 6\n",
      "my order 4\n",
      "new order 4\n",
      "2 7\n",
      "my order 3\n",
      "new order 3\n",
      "3 16\n",
      "my order 3\n",
      "new order 3\n",
      "4 7\n",
      "my order 1\n",
      "new order 1\n",
      "5 6\n",
      "my order 4\n",
      "new order 4\n",
      "6 6\n",
      "my order 4\n",
      "new order 4\n",
      "7 7\n",
      "my order 3\n",
      "new order 3\n",
      "8 6\n",
      "my order 4\n",
      "new order 4\n",
      "11 1\n",
      "my order 2\n",
      "new order 4\n",
      "10 1\n",
      "my order 2\n",
      "new order 3\n",
      "9 1\n",
      "my order 2\n"
     ]
    }
   ],
   "source": [
    "#Practice walking a molecule\n",
    "#WANT: to iterate over every atom, using the bonds that exist to determine which atom is \"next\"  - DONE\n",
    "#WANT: REALLY to identify which bonds are double bonds and which should stay single - \n",
    "import numpy\n",
    "octet = {\n",
    "    6 : 4,\n",
    "    7 : 3,\n",
    "    1 : 1,\n",
    "    16 : 2}\n",
    "    \n",
    "def walk_molecule(atom, mol, visited,happy):\n",
    "    print(atom.molecule_atom_index, atom.atomic_number)\n",
    "    visited[atom.molecule_atom_index] = True\n",
    "    bonds = [b for b in mol.bonds if atom.molecule_atom_index in [b.atom1_index, b.atom2_index]]\n",
    "    current_order = numpy.sum([int(b.bond_order) for b in bonds])\n",
    "    print(\"my order\", current_order)\n",
    "    add_order = 0\n",
    "    if current_order == octet[atom.atomic_number]:\n",
    "        add_order=0\n",
    "#        happy[atom.molecule_atom_index] = True\n",
    "    if current_order << octet[atom.atomic_number]:\n",
    "        add_order = 1\n",
    "#    else: #currently assumes bond order is too low\n",
    "#        add_order = 1\n",
    "    if current_order > octet[atom.atomic_number]:\n",
    "        add_order = -1\n",
    "    for b in bonds:\n",
    "        #print(b.bond_order)\n",
    "        next_atom = b.atom1_index\n",
    "        if b.atom1_index == atom.molecule_atom_index:\n",
    "            next_atom = b.atom2_index\n",
    "        #print(\"...and I'm going to:\" , next_atom, visited)\n",
    "        if visited[next_atom] == False:\n",
    "            b.bond_order += add_order\n",
    "            print(\"new order\", current_order)\n",
    "            walk_molecule(mol.atoms[next_atom],mol, visited,happy)\n",
    "\n",
    "        \n",
    "    \n",
    "    \n",
    "walk_molecule(compound.atoms[0],compound, [False]*len(compound.atoms),[False]*len(compound.atoms))"
   ]
  },
  {
   "cell_type": "code",
   "execution_count": 5,
   "id": "97abbe51",
   "metadata": {},
   "outputs": [
    {
     "ename": "KeyError",
     "evalue": "0",
     "output_type": "error",
     "traceback": [
      "\u001b[0;31m---------------------------------------------------------------------------\u001b[0m",
      "\u001b[0;31mKeyError\u001b[0m                                  Traceback (most recent call last)",
      "Cell \u001b[0;32mIn[5], line 1\u001b[0m\n\u001b[0;32m----> 1\u001b[0m \u001b[43mcompound\u001b[49m\u001b[38;5;241;43m.\u001b[39;49m\u001b[43mvisualize\u001b[49m\u001b[43m(\u001b[49m\u001b[43m)\u001b[49m\n",
      "File \u001b[0;32m~/miniconda3/envs/bondwalk/lib/python3.9/site-packages/openff/toolkit/topology/molecule.py:6224\u001b[0m, in \u001b[0;36mMolecule.visualize\u001b[0;34m(self, backend, width, height, show_all_hydrogens)\u001b[0m\n\u001b[1;32m   6218\u001b[0m \u001b[38;5;28;01mfrom\u001b[39;00m \u001b[38;5;21;01mrdkit\u001b[39;00m\u001b[38;5;21;01m.\u001b[39;00m\u001b[38;5;21;01mChem\u001b[39;00m\u001b[38;5;21;01m.\u001b[39;00m\u001b[38;5;21;01mDraw\u001b[39;00m \u001b[38;5;28;01mimport\u001b[39;00m (  \u001b[38;5;66;03m# type: ignore[import]\u001b[39;00m\n\u001b[1;32m   6219\u001b[0m     rdDepictor,\n\u001b[1;32m   6220\u001b[0m     rdMolDraw2D,\n\u001b[1;32m   6221\u001b[0m )\n\u001b[1;32m   6222\u001b[0m \u001b[38;5;28;01mfrom\u001b[39;00m \u001b[38;5;21;01mrdkit\u001b[39;00m\u001b[38;5;21;01m.\u001b[39;00m\u001b[38;5;21;01mChem\u001b[39;00m\u001b[38;5;21;01m.\u001b[39;00m\u001b[38;5;21;01mrdmolops\u001b[39;00m \u001b[38;5;28;01mimport\u001b[39;00m RemoveHs  \u001b[38;5;66;03m# type: ignore[import]\u001b[39;00m\n\u001b[0;32m-> 6224\u001b[0m rdmol \u001b[38;5;241m=\u001b[39m \u001b[38;5;28;43mself\u001b[39;49m\u001b[38;5;241;43m.\u001b[39;49m\u001b[43mto_rdkit\u001b[49m\u001b[43m(\u001b[49m\u001b[43m)\u001b[49m\n\u001b[1;32m   6226\u001b[0m \u001b[38;5;28;01mif\u001b[39;00m \u001b[38;5;129;01mnot\u001b[39;00m show_all_hydrogens:\n\u001b[1;32m   6227\u001b[0m     \u001b[38;5;66;03m# updateExplicitCount: Keep a record of the hydrogens we remove.\u001b[39;00m\n\u001b[1;32m   6228\u001b[0m     \u001b[38;5;66;03m# This is used in visualization to distinguish eg radicals from normal species\u001b[39;00m\n\u001b[1;32m   6229\u001b[0m     rdmol \u001b[38;5;241m=\u001b[39m RemoveHs(rdmol, updateExplicitCount\u001b[38;5;241m=\u001b[39m\u001b[38;5;28;01mTrue\u001b[39;00m)\n",
      "File \u001b[0;32m~/miniconda3/envs/bondwalk/lib/python3.9/site-packages/openff/toolkit/utils/base_wrapper.py:51\u001b[0m, in \u001b[0;36mToolkitWrapper.requires_toolkit.<locals>.decorator.<locals>.wrapped_function\u001b[0;34m(*args, **kwargs)\u001b[0m\n\u001b[1;32m     47\u001b[0m     msg \u001b[38;5;241m=\u001b[39m \u001b[38;5;124m\"\u001b[39m\u001b[38;5;124mThis function requires the \u001b[39m\u001b[38;5;132;01m{}\u001b[39;00m\u001b[38;5;124m toolkit\u001b[39m\u001b[38;5;124m\"\u001b[39m\u001b[38;5;241m.\u001b[39mformat(\n\u001b[1;32m     48\u001b[0m         \u001b[38;5;28mcls\u001b[39m\u001b[38;5;241m.\u001b[39m_toolkit_name\n\u001b[1;32m     49\u001b[0m     )\n\u001b[1;32m     50\u001b[0m     \u001b[38;5;28;01mraise\u001b[39;00m ToolkitUnavailableException(msg)\n\u001b[0;32m---> 51\u001b[0m value \u001b[38;5;241m=\u001b[39m \u001b[43mfunc\u001b[49m\u001b[43m(\u001b[49m\u001b[38;5;241;43m*\u001b[39;49m\u001b[43margs\u001b[49m\u001b[43m,\u001b[49m\u001b[43m \u001b[49m\u001b[38;5;241;43m*\u001b[39;49m\u001b[38;5;241;43m*\u001b[39;49m\u001b[43mkwargs\u001b[49m\u001b[43m)\u001b[49m\n\u001b[1;32m     52\u001b[0m \u001b[38;5;28;01mreturn\u001b[39;00m value\n",
      "File \u001b[0;32m~/miniconda3/envs/bondwalk/lib/python3.9/site-packages/openff/toolkit/topology/molecule.py:5037\u001b[0m, in \u001b[0;36mFrozenMolecule.to_rdkit\u001b[0;34m(self, aromaticity_model)\u001b[0m\n\u001b[1;32m   5010\u001b[0m \u001b[38;5;250m\u001b[39m\u001b[38;5;124;03m\"\"\"\u001b[39;00m\n\u001b[1;32m   5011\u001b[0m \u001b[38;5;124;03mCreate an RDKit molecule\u001b[39;00m\n\u001b[1;32m   5012\u001b[0m \n\u001b[0;32m   (...)\u001b[0m\n\u001b[1;32m   5034\u001b[0m \n\u001b[1;32m   5035\u001b[0m \u001b[38;5;124;03m\"\"\"\u001b[39;00m\n\u001b[1;32m   5036\u001b[0m toolkit \u001b[38;5;241m=\u001b[39m RDKitToolkitWrapper()\n\u001b[0;32m-> 5037\u001b[0m \u001b[38;5;28;01mreturn\u001b[39;00m \u001b[43mtoolkit\u001b[49m\u001b[38;5;241;43m.\u001b[39;49m\u001b[43mto_rdkit\u001b[49m\u001b[43m(\u001b[49m\u001b[38;5;28;43mself\u001b[39;49m\u001b[43m,\u001b[49m\u001b[43m \u001b[49m\u001b[43maromaticity_model\u001b[49m\u001b[38;5;241;43m=\u001b[39;49m\u001b[43maromaticity_model\u001b[49m\u001b[43m)\u001b[49m\n",
      "File \u001b[0;32m~/miniconda3/envs/bondwalk/lib/python3.9/site-packages/openff/toolkit/utils/rdkit_wrapper.py:1743\u001b[0m, in \u001b[0;36mRDKitToolkitWrapper.to_rdkit\u001b[0;34m(cls, molecule, aromaticity_model)\u001b[0m\n\u001b[1;32m   1741\u001b[0m         rdbond\u001b[38;5;241m.\u001b[39mSetIsAromatic(\u001b[38;5;28;01mTrue\u001b[39;00m)\n\u001b[1;32m   1742\u001b[0m     \u001b[38;5;28;01melse\u001b[39;00m:\n\u001b[0;32m-> 1743\u001b[0m         rdbond\u001b[38;5;241m.\u001b[39mSetBondType(\u001b[43m_bondtypes\u001b[49m\u001b[43m[\u001b[49m\u001b[43mbond\u001b[49m\u001b[38;5;241;43m.\u001b[39;49m\u001b[43mbond_order\u001b[49m\u001b[43m]\u001b[49m)\n\u001b[1;32m   1744\u001b[0m         rdbond\u001b[38;5;241m.\u001b[39mSetIsAromatic(\u001b[38;5;28;01mFalse\u001b[39;00m)\n\u001b[1;32m   1746\u001b[0m Chem\u001b[38;5;241m.\u001b[39mSanitizeMol(\n\u001b[1;32m   1747\u001b[0m     rdmol,\n\u001b[1;32m   1748\u001b[0m     Chem\u001b[38;5;241m.\u001b[39mSANITIZE_ALL \u001b[38;5;241m^\u001b[39m Chem\u001b[38;5;241m.\u001b[39mSANITIZE_ADJUSTHS \u001b[38;5;241m^\u001b[39m Chem\u001b[38;5;241m.\u001b[39mSANITIZE_SETAROMATICITY,\n\u001b[1;32m   1749\u001b[0m )\n",
      "\u001b[0;31mKeyError\u001b[0m: 0"
     ]
    }
   ],
   "source": [
    "compound.visualize()"
   ]
  },
  {
   "cell_type": "code",
   "execution_count": null,
   "id": "dc9c698b",
   "metadata": {},
   "outputs": [],
   "source": [
    "#Get list of all bonds that don't have a hydrogen atom\n",
    "#We can elimiate these bonds from our walk because we know they will always have a bond order of 2\n",
    "bond_list = [b for b in compound.bonds if 1 not in [b.atom1.atomic_number, b.atom2.atomic_number]]\n",
    "atom_list = [a for a in compound.atoms if 1 not in [a.atomic_number]]"
   ]
  },
  {
   "cell_type": "code",
   "execution_count": null,
   "id": "ee1056d0",
   "metadata": {},
   "outputs": [],
   "source": [
    "#starting and ending points are the same \n",
    "def get_starting_finishing_points():\n",
    "    _start = random.choice((atom_list))\n",
    "    _end = _start\n",
    "    return [_start,_end]"
   ]
  },
  {
   "cell_type": "code",
   "execution_count": null,
   "id": "0a1d0d9c",
   "metadata": {},
   "outputs": [],
   "source": [
    "#take input molecule and check the octet of an atom, if octet is not met check the octet of neighbor atoms, if \n",
    "#any of thier octets are not met try increasing the bond order of thier bond, check neighbors and if the octet is \n",
    "#broken reject the increased bond order. \n",
    "def step(compound, starting_atom, next_atom): \n",
    "    \"\"\"compound needs to be a openmm molecule \n",
    "    starting atom will need to be a random index within the atom list\n",
    "    next atom is a neighbor of the starting atom\"\"\"\n",
    "    bond_list = [b for b in compound.bonds if 1 not in [b.atom1.atomic_number, b.atom2.atomic_number]]\n",
    "    atom_list = [a for a in compound.atoms if 1 not in [a.atomic_number]]\n",
    "#    num_bonds = len(compound.a) this doesnt increase when bond order is increased\n",
    "    octet = {\n",
    "    6 : 4,\n",
    "    7 : 3,\n",
    "    1 : 1,\n",
    "    16 : 2}\n",
    "    happy = False\n",
    "    while not happy: \n",
    "        #do stuff:\n",
    "        for atom in atom_list:\n",
    "            if len(atom.bonds) != octet[atom.atomic_number]:\n",
    "                \n",
    "                #check bonded atoms octet...but how?\n",
    "                \n",
    "        #check if done if we are done happy = true\n",
    "        for atom in atom_list:\n",
    "            if len(atom.bonds) == octet[atom.atomic_number]:\n",
    "                happy = True"
   ]
  },
  {
   "cell_type": "code",
   "execution_count": null,
   "id": "fd2a8ade",
   "metadata": {},
   "outputs": [],
   "source": [
    "for bond in bond_list:\n",
    "    if 0 in [bond.atom1_index,bond.atom2_index]:\n",
    "        print(bond.bond_order)"
   ]
  },
  {
   "cell_type": "code",
   "execution_count": null,
   "id": "30c9ff31",
   "metadata": {},
   "outputs": [],
   "source": [
    "change_bond = bond_list[1]\n",
    "change_bond.bond_order = 2\n",
    "compound.visualize()"
   ]
  },
  {
   "cell_type": "code",
   "execution_count": null,
   "id": "4af383c6",
   "metadata": {},
   "outputs": [],
   "source": [
    "for atom in atom_list:\n",
    "    print(atom.molecule_atom_index,len(atom.bonds))"
   ]
  },
  {
   "cell_type": "code",
   "execution_count": null,
   "id": "f5f7b44a",
   "metadata": {},
   "outputs": [],
   "source": []
  }
 ],
 "metadata": {
  "kernelspec": {
   "display_name": "Python 3 (ipykernel)",
   "language": "python",
   "name": "python3"
  },
  "language_info": {
   "codemirror_mode": {
    "name": "ipython",
    "version": 3
   },
   "file_extension": ".py",
   "mimetype": "text/x-python",
   "name": "python",
   "nbconvert_exporter": "python",
   "pygments_lexer": "ipython3",
   "version": "3.9.15"
  }
 },
 "nbformat": 4,
 "nbformat_minor": 5
}
